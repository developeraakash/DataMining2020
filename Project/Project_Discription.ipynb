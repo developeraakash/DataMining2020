{
 "cells": [
  {
   "cell_type": "markdown",
   "metadata": {
    "id": "x_RORTmNzkYx"
   },
   "source": [
    "# Data Mining for Security Applications: final project\n",
    "\n",
    "This final hands on project will count for 50% of your final grade (exam is the other 50%)"
   ]
  },
  {
   "cell_type": "markdown",
   "metadata": {
    "id": "Q8F4RGo-zkY4"
   },
   "source": [
    "## Organization\n",
    "* you can start the project as of now\n",
    "* the project has to be handed in no later than March 1st - NO EXTENSIONS!\n",
    "\n",
    "### Project Submission \n",
    "* hand in a single jupyter notebook for your project (via moodle)\n",
    "* set all paths as relative paths such that the data is in the same folder as the notebook\n",
    "* your notebook should run without errors (uncomment parts that do not work)\n",
    "* Use markdown cells and comments in the code to document and motivate you solution\n",
    "* show and analyze intermediate results\n",
    "* evaluate and discuss your solution\n",
    "\n",
    "### Grading Criteria\n",
    "* 4.0 : notebook that works and gives some solution to the problem\n",
    "* 3.0 : + good documentation, evaluation and discussion\n",
    "* 2.0 : + complete processing pipeline, good results\n",
    "* 1.0 : + very detailed documentation and analysis, hyper-parameter optimization, tried and compared more than one method \n",
    "\n"
   ]
  },
  {
   "cell_type": "markdown",
   "metadata": {
    "id": "59FQDpGQzkY4"
   },
   "source": [
    "# Task: Breaking image captchas  \n",
    "\n",
    "We are working on this Kaggle Challenge: https://www.kaggle.com/fournierp/captcha-version-2-images  \n",
    "\n",
    "HINT: have a good look at the problem description and the notebooks of other users to get started \n",
    "\n",
    "* Train and test images are in the according folders\n",
    "* The true labels are encoded in the file names "
   ]
  },
  {
   "cell_type": "markdown",
   "metadata": {
    "id": "JqupLDr6zkY5"
   },
   "source": [
    "## Tasks to follow:\n",
    "* write code to read the images [use the imageio lib](https://imageio.readthedocs.io/en/stable/userapi.html) and convert then into NUMPY feature vectors\n",
    "and labels\n",
    "    * HINT: use [the os lib](https://docs.python.org/2/library/os.html#os.listdir) to get files in a directory\n",
    "* the hardest part is to solve the segmentation problem: splitting the image into single characters\n",
    "    * try Clustering over pixel positions\n",
    "    * or a density projection along the y-axis\n",
    "* crate a training data set of labeled character segments\n",
    "    * evaluate this step\n",
    "* train a CNN or MLP network to classify character segments\n",
    "    * evaluate this step\n",
    "* build a full pipeline to transform capcha image inputs into strings\n",
    "* Evaluate and discuss your results"
   ]
  },
  {
   "cell_type": "code",
   "execution_count": 1,
   "metadata": {
    "executionInfo": {
     "elapsed": 536,
     "status": "ok",
     "timestamp": 1612726399445,
     "user": {
      "displayName": "Melanie McLeod",
      "photoUrl": "",
      "userId": "15020505036329731243"
     },
     "user_tz": -60
    },
    "id": "p2pjwAQdzkY5"
   },
   "outputs": [
    {
     "name": "stderr",
     "output_type": "stream",
     "text": [
      "Using TensorFlow backend.\n",
      "/home/student/anaconda3/lib/python3.7/site-packages/tensorflow/python/framework/dtypes.py:516: FutureWarning: Passing (type, 1) or '1type' as a synonym of type is deprecated; in a future version of numpy, it will be understood as (type, (1,)) / '(1,)type'.\n",
      "  _np_qint8 = np.dtype([(\"qint8\", np.int8, 1)])\n",
      "/home/student/anaconda3/lib/python3.7/site-packages/tensorflow/python/framework/dtypes.py:517: FutureWarning: Passing (type, 1) or '1type' as a synonym of type is deprecated; in a future version of numpy, it will be understood as (type, (1,)) / '(1,)type'.\n",
      "  _np_quint8 = np.dtype([(\"quint8\", np.uint8, 1)])\n",
      "/home/student/anaconda3/lib/python3.7/site-packages/tensorflow/python/framework/dtypes.py:518: FutureWarning: Passing (type, 1) or '1type' as a synonym of type is deprecated; in a future version of numpy, it will be understood as (type, (1,)) / '(1,)type'.\n",
      "  _np_qint16 = np.dtype([(\"qint16\", np.int16, 1)])\n",
      "/home/student/anaconda3/lib/python3.7/site-packages/tensorflow/python/framework/dtypes.py:519: FutureWarning: Passing (type, 1) or '1type' as a synonym of type is deprecated; in a future version of numpy, it will be understood as (type, (1,)) / '(1,)type'.\n",
      "  _np_quint16 = np.dtype([(\"quint16\", np.uint16, 1)])\n",
      "/home/student/anaconda3/lib/python3.7/site-packages/tensorflow/python/framework/dtypes.py:520: FutureWarning: Passing (type, 1) or '1type' as a synonym of type is deprecated; in a future version of numpy, it will be understood as (type, (1,)) / '(1,)type'.\n",
      "  _np_qint32 = np.dtype([(\"qint32\", np.int32, 1)])\n",
      "/home/student/anaconda3/lib/python3.7/site-packages/tensorflow/python/framework/dtypes.py:525: FutureWarning: Passing (type, 1) or '1type' as a synonym of type is deprecated; in a future version of numpy, it will be understood as (type, (1,)) / '(1,)type'.\n",
      "  np_resource = np.dtype([(\"resource\", np.ubyte, 1)])\n",
      "/home/student/anaconda3/lib/python3.7/site-packages/tensorboard/compat/tensorflow_stub/dtypes.py:541: FutureWarning: Passing (type, 1) or '1type' as a synonym of type is deprecated; in a future version of numpy, it will be understood as (type, (1,)) / '(1,)type'.\n",
      "  _np_qint8 = np.dtype([(\"qint8\", np.int8, 1)])\n",
      "/home/student/anaconda3/lib/python3.7/site-packages/tensorboard/compat/tensorflow_stub/dtypes.py:542: FutureWarning: Passing (type, 1) or '1type' as a synonym of type is deprecated; in a future version of numpy, it will be understood as (type, (1,)) / '(1,)type'.\n",
      "  _np_quint8 = np.dtype([(\"quint8\", np.uint8, 1)])\n",
      "/home/student/anaconda3/lib/python3.7/site-packages/tensorboard/compat/tensorflow_stub/dtypes.py:543: FutureWarning: Passing (type, 1) or '1type' as a synonym of type is deprecated; in a future version of numpy, it will be understood as (type, (1,)) / '(1,)type'.\n",
      "  _np_qint16 = np.dtype([(\"qint16\", np.int16, 1)])\n",
      "/home/student/anaconda3/lib/python3.7/site-packages/tensorboard/compat/tensorflow_stub/dtypes.py:544: FutureWarning: Passing (type, 1) or '1type' as a synonym of type is deprecated; in a future version of numpy, it will be understood as (type, (1,)) / '(1,)type'.\n",
      "  _np_quint16 = np.dtype([(\"quint16\", np.uint16, 1)])\n",
      "/home/student/anaconda3/lib/python3.7/site-packages/tensorboard/compat/tensorflow_stub/dtypes.py:545: FutureWarning: Passing (type, 1) or '1type' as a synonym of type is deprecated; in a future version of numpy, it will be understood as (type, (1,)) / '(1,)type'.\n",
      "  _np_qint32 = np.dtype([(\"qint32\", np.int32, 1)])\n",
      "/home/student/anaconda3/lib/python3.7/site-packages/tensorboard/compat/tensorflow_stub/dtypes.py:550: FutureWarning: Passing (type, 1) or '1type' as a synonym of type is deprecated; in a future version of numpy, it will be understood as (type, (1,)) / '(1,)type'.\n",
      "  np_resource = np.dtype([(\"resource\", np.ubyte, 1)])\n"
     ]
    }
   ],
   "source": [
    "#Pip installs for all packages if needed\n",
    "#!pip install os\n",
    "#!pip install imageio\n",
    "#!pip install opencv-python\n",
    "#!pip install matplotlib\n",
    "#!pip install tensorflow\n",
    "#!pip install keras\n",
    "\n",
    "\n",
    "#Importing all needed packages\n",
    "import os\n",
    "import imageio\n",
    "import numpy as np\n",
    "from cv2 import cv2\n",
    "import string\n",
    "import matplotlib.pyplot as plt\n",
    "%matplotlib inline\n",
    "from sklearn.model_selection import train_test_split\n",
    "from sklearn.metrics import confusion_matrix\n",
    "import keras\n",
    "\n",
    "#Import Modeling Packages\n",
    "from keras.layers import Layer, Dense, Dropout, Flatten, Conv2D, MaxPool2D\n",
    "from keras import backend as K\n",
    "from keras import layers\n",
    "from keras.models import Model, Sequential, load_model \n",
    "from keras import callbacks\n",
    "from keras.preprocessing.image import ImageDataGenerator\n",
    "from keras.callbacks import ReduceLROnPlateau\n",
    "from keras.optimizers import RMSprop\n"
   ]
  },
  {
   "cell_type": "markdown",
   "metadata": {
    "id": "RLgI9t33zkY6"
   },
   "source": [
    "First visualization of data set and how with importing in with imageio the images apppears in plots. This helps distingish if the image is brought in as indiviual letter/numbers or the full image is stored. "
   ]
  },
  {
   "cell_type": "code",
   "execution_count": 2,
   "metadata": {
    "colab": {
     "base_uri": "https://localhost:8080/",
     "height": 375
    },
    "executionInfo": {
     "elapsed": 710,
     "status": "error",
     "timestamp": 1612726405693,
     "user": {
      "displayName": "Melanie McLeod",
      "photoUrl": "",
      "userId": "15020505036329731243"
     },
     "user_tz": -60
    },
    "id": "E-4IegGGzkY7",
    "outputId": "4a58a8be-2a34-4007-b146-f83c4da25494"
   },
   "outputs": [
    {
     "name": "stdout",
     "output_type": "stream",
     "text": [
      "(50, 200)\n"
     ]
    },
    {
     "data": {
      "image/png": "[encoded data removed]",
      "text/plain": [
       "<Figure size 432x288 with 2 Axes>"
      ]
     },
     "metadata": {
      "needs_background": "light"
     },
     "output_type": "display_data"
    }
   ],
   "source": [
    "#Example of how imageio reads the data in visual form. the Captcha is in a clear dark purple. \n",
    "image = imageio.imread('../Project/train/2b827.png', as_gray=True)\n",
    "print(image.shape)\n",
    "\n",
    "plt.figure()\n",
    "plt.imshow(image, cmap=plt.get_cmap('gray'))\n",
    "plt.colorbar()\n",
    "plt.show()"
   ]
  },
  {
   "cell_type": "markdown",
   "metadata": {
    "id": "4lsSRmQJzkY7"
   },
   "source": [
    "After we know how the image comes in we can set up a function to import and store all the images for testing or training sets. According to the Kaggle information all images are in 50 by 200 PNGS. Also found online are the symbols avaible to Captcha, which we can utilized for ensure the y match up with the limited options for Captcha. Having a limit of matches makes the match processing easier. Note: we utilized `as_gray=True` to indicate the images are in grey scale this reduces our shape from a (5,200,4) to (5,200) which aligns with the size of images perfectly. "
   ]
  },
  {
   "cell_type": "code",
   "execution_count": 3,
   "metadata": {
    "id": "l-lCMQtxzkY7"
   },
   "outputs": [],
   "source": [
    "#Init main values\n",
    "symbols = string.ascii_lowercase + \"0123456789\" # All symbols captcha can contain\n",
    "num_symbols = len(symbols)\n",
    "img_shape = (50, 200, 1)\n",
    "\n",
    "#preprocessing the data into Numpy array's\n",
    "def process_image(type):\n",
    "    n_samples = len(os.listdir(type))\n",
    "    X = np.zeros((n_samples, 50, 200, 1)) # the size of image is known to be 200 x 50 PNGs  and we have # of samples\n",
    "    y = np.zeros((5, n_samples, num_symbols)) #5*970*36 shape\n",
    "\n",
    "    for i,pic in enumerate(os.listdir(type)):\n",
    "        # Read image as grayscale\n",
    "        img = cv2.imread(os.path.join(type,pic), cv2.IMREAD_GRAYSCALE)\n",
    "        pic_target = pic[:-4]\n",
    "        \n",
    "        #All Captcha Images are assumed to be length of 5 characters\n",
    "        if len(pic_target) < 6:\n",
    "            \n",
    "            # Scale and reshape image\n",
    "            img = img / 255.0\n",
    "            img = np.reshape(img, (50, 200, 1))\n",
    "            \n",
    "            # Define targets based on file name and code them using OneHotEncoding\n",
    "            targs = np.zeros((5, num_symbols))\n",
    "            \n",
    "            for j, l in enumerate(pic_target):\n",
    "                ind = symbols.find(l)\n",
    "                targs[j, ind] = 1\n",
    "             \n",
    "            #Write the pixels (encoded image) to X and the OneHotEncoded Label to y\n",
    "            X[i] = img\n",
    "            y[:, i] = targs\n",
    "    \n",
    "    # Return final data\n",
    "    return X, y"
   ]
  },
  {
   "cell_type": "markdown",
   "metadata": {
    "id": "rUGeyLTvzkY8"
   },
   "source": [
    "Below we utlize the relative paths of train and test folders to set up the X,y datasets. Stored in process_data() is our function for utilizing cv2.imread lib  (same to imageio, but had less conflicts) for storing the data in vectors. "
   ]
  },
  {
   "cell_type": "code",
   "execution_count": 4,
   "metadata": {
    "id": "8mfIVwz0zkY8",
    "outputId": "4c80b306-9860-4f32-ee64-fc50486680b8"
   },
   "outputs": [
    {
     "name": "stdout",
     "output_type": "stream",
     "text": [
      "Shapes of X: train (970, 50, 200, 1) test (100, 50, 200, 1)\n",
      "Shapes of y: train (5, 970, 36) test (5, 100, 36)\n"
     ]
    }
   ],
   "source": [
    "#Create Train and Test sets\n",
    "train = os.getcwd()+'/train'\n",
    "test = os.getcwd()+'/test'\n",
    "\n",
    "X_train, y_train = process_image(train)\n",
    "X_test, y_test = process_image(test)\n",
    "\n",
    "print(\"Shapes of X: train\", X_train.shape, \"test\", X_test.shape)\n",
    "print(\"Shapes of y: train\", y_train.shape, \"test\", y_test.shape)"
   ]
  },
  {
   "cell_type": "markdown",
   "metadata": {},
   "source": [
    "## Model Creation"
   ]
  },
  {
   "cell_type": "markdown",
   "metadata": {
    "id": "D6A5CBbgzkY_"
   },
   "source": [
    "Now that the data stored in the X,y for train and test we can create a CNN model. We are utilizing a CNN model because they were designed for image mapping. https://machinelearningmastery.com/when-to-use-mlp-cnn-and-rnn-neural-networks/. In creating the model we need to breadown the image from a whole view to try to get section of each letter/number for the model to match. Since we know there are only 5 characters in the captcha images we can use this for setting up 5 branches for the CNN. The activation function of relu was selected  in betwenn layers as this is a pretty standard starting point and is more computationally effiecent. Since the ultimate goal would be to accurately predict to break the captcha the evaluation metric being used is overall accuracy. "
   ]
  },
  {
   "cell_type": "code",
   "execution_count": 5,
   "metadata": {
    "id": "UZq16J_4zkY_"
   },
   "outputs": [],
   "source": [
    "def create_model():\n",
    "    image = layers.Input(shape=img_shape) # Get image as an input and process it through some Convs\n",
    "    conv1 = layers.Conv2D(16, (3, 3), padding='same', activation='relu')(image)\n",
    "    pool1 = layers.MaxPooling2D(padding='same')(conv1)  # 100x25\n",
    "    conv2 = layers.Conv2D(32, (3, 3), padding='same', activation='relu')(pool1)\n",
    "    pool2 = layers.MaxPooling2D(padding='same')(conv2)  # 50x13\n",
    "    conv3 = layers.Conv2D(32, (3, 3), padding='same', activation='relu')(pool2)\n",
    "    bn = layers.BatchNormalization()(conv3)\n",
    "    pool3 = layers.MaxPooling2D(padding='same')(bn)  # 25x7\n",
    "    \n",
    "    # Get flattened vector and make 5 branches from it. Each branch will predict one letter\n",
    "    flat = layers.Flatten()(pool3)\n",
    "    outputs = []\n",
    "    for _ in range(5):\n",
    "        dens1 = layers.Dense(64, activation='relu')(flat)\n",
    "        drop = layers.Dropout(0.5)(dens1)\n",
    "        res = layers.Dense(num_symbols, activation='sigmoid')(drop)\n",
    "\n",
    "        outputs.append(res)\n",
    "    \n",
    "    # Compile model and return it\n",
    "    model = Model(image, outputs)\n",
    "    model.compile(loss='categorical_crossentropy', optimizer='adam',metrics=[\"accuracy\"])\n",
    "    return model"
   ]
  },
  {
   "cell_type": "code",
   "execution_count": 6,
   "metadata": {
    "id": "kihIontFzkZA"
   },
   "outputs": [
    {
     "name": "stdout",
     "output_type": "stream",
     "text": [
      "WARNING:tensorflow:From /home/student/anaconda3/lib/python3.7/site-packages/keras/backend/tensorflow_backend.py:4070: The name tf.nn.max_pool is deprecated. Please use tf.nn.max_pool2d instead.\n",
      "\n"
     ]
    }
   ],
   "source": [
    "#Setup the Model, History Logs \n",
    "model = create_model()\n"
   ]
  },
  {
   "cell_type": "code",
   "execution_count": 7,
   "metadata": {},
   "outputs": [
    {
     "name": "stdout",
     "output_type": "stream",
     "text": [
      "WARNING:tensorflow:From /home/student/anaconda3/lib/python3.7/site-packages/tensorflow/python/ops/math_grad.py:1250: add_dispatch_support.<locals>.wrapper (from tensorflow.python.ops.array_ops) is deprecated and will be removed in a future version.\n",
      "Instructions for updating:\n",
      "Use tf.where in 2.0, which has the same broadcast rule as np.where\n",
      "WARNING:tensorflow:From /home/student/anaconda3/lib/python3.7/site-packages/keras/backend/tensorflow_backend.py:422: The name tf.global_variables is deprecated. Please use tf.compat.v1.global_variables instead.\n",
      "\n",
      "Train on 776 samples, validate on 194 samples\n",
      "Epoch 1/30\n",
      "776/776 [==============================] - 5s 6ms/step - loss: 17.0481 - dense_2_loss: 3.2655 - dense_4_loss: 3.4739 - dense_6_loss: 3.3825 - dense_8_loss: 3.4984 - dense_10_loss: 3.4187 - dense_2_accuracy: 0.0760 - dense_4_accuracy: 0.0657 - dense_6_accuracy: 0.0567 - dense_8_accuracy: 0.0451 - dense_10_accuracy: 0.0490 - val_loss: 17.7779 - val_dense_2_loss: 4.2920 - val_dense_4_loss: 3.3968 - val_dense_6_loss: 3.2872 - val_dense_8_loss: 3.4003 - val_dense_10_loss: 3.3454 - val_dense_2_accuracy: 0.0000e+00 - val_dense_4_accuracy: 0.0000e+00 - val_dense_6_accuracy: 0.1443 - val_dense_8_accuracy: 0.0361 - val_dense_10_accuracy: 0.1237\n",
      "Epoch 2/30\n",
      "776/776 [==============================] - 2s 2ms/step - loss: 15.9270 - dense_2_loss: 2.9720 - dense_4_loss: 3.2585 - dense_6_loss: 3.1782 - dense_8_loss: 3.2864 - dense_10_loss: 3.2335 - dense_2_accuracy: 0.0876 - dense_4_accuracy: 0.0735 - dense_6_accuracy: 0.0799 - dense_8_accuracy: 0.0451 - dense_10_accuracy: 0.0631 - val_loss: 17.9121 - val_dense_2_loss: 4.7501 - val_dense_4_loss: 3.3251 - val_dense_6_loss: 3.2166 - val_dense_8_loss: 3.3229 - val_dense_10_loss: 3.2281 - val_dense_2_accuracy: 0.0515 - val_dense_4_accuracy: 0.0361 - val_dense_6_accuracy: 0.0515 - val_dense_8_accuracy: 0.0619 - val_dense_10_accuracy: 0.1082\n",
      "Epoch 3/30\n",
      "776/776 [==============================] - 2s 2ms/step - loss: 15.1792 - dense_2_loss: 2.7919 - dense_4_loss: 3.1052 - dense_6_loss: 3.0279 - dense_8_loss: 3.1276 - dense_10_loss: 3.1019 - dense_2_accuracy: 0.1031 - dense_4_accuracy: 0.1095 - dense_6_accuracy: 0.1031 - dense_8_accuracy: 0.0528 - dense_10_accuracy: 0.0567 - val_loss: 17.6647 - val_dense_2_loss: 4.4170 - val_dense_4_loss: 3.3054 - val_dense_6_loss: 3.3250 - val_dense_8_loss: 3.2905 - val_dense_10_loss: 3.2865 - val_dense_2_accuracy: 0.0000e+00 - val_dense_4_accuracy: 0.0361 - val_dense_6_accuracy: 0.1701 - val_dense_8_accuracy: 0.0515 - val_dense_10_accuracy: 0.0722\n",
      "Epoch 4/30\n",
      "776/776 [==============================] - 2s 2ms/step - loss: 14.4970 - dense_2_loss: 2.6942 - dense_4_loss: 2.9071 - dense_6_loss: 2.9061 - dense_8_loss: 3.0081 - dense_10_loss: 2.9703 - dense_2_accuracy: 0.1005 - dense_4_accuracy: 0.1070 - dense_6_accuracy: 0.1521 - dense_8_accuracy: 0.0696 - dense_10_accuracy: 0.0915 - val_loss: 17.3700 - val_dense_2_loss: 3.7301 - val_dense_4_loss: 3.3864 - val_dense_6_loss: 3.4442 - val_dense_8_loss: 3.3811 - val_dense_10_loss: 3.4245 - val_dense_2_accuracy: 0.0000e+00 - val_dense_4_accuracy: 0.0928 - val_dense_6_accuracy: 0.1649 - val_dense_8_accuracy: 0.0773 - val_dense_10_accuracy: 0.0773\n",
      "Epoch 5/30\n",
      "776/776 [==============================] - 2s 2ms/step - loss: 13.9008 - dense_2_loss: 2.5786 - dense_4_loss: 2.7023 - dense_6_loss: 2.7889 - dense_8_loss: 2.9143 - dense_10_loss: 2.8944 - dense_2_accuracy: 0.1160 - dense_4_accuracy: 0.1482 - dense_6_accuracy: 0.1933 - dense_8_accuracy: 0.0825 - dense_10_accuracy: 0.1108 - val_loss: 17.1639 - val_dense_2_loss: 3.8041 - val_dense_4_loss: 3.3110 - val_dense_6_loss: 3.3482 - val_dense_8_loss: 3.3692 - val_dense_10_loss: 3.3444 - val_dense_2_accuracy: 0.0464 - val_dense_4_accuracy: 0.1031 - val_dense_6_accuracy: 0.2680 - val_dense_8_accuracy: 0.1598 - val_dense_10_accuracy: 0.0825\n",
      "Epoch 6/30\n",
      "776/776 [==============================] - 2s 2ms/step - loss: 13.4024 - dense_2_loss: 2.4767 - dense_4_loss: 2.5604 - dense_6_loss: 2.6593 - dense_8_loss: 2.8567 - dense_10_loss: 2.8284 - dense_2_accuracy: 0.1804 - dense_4_accuracy: 0.1534 - dense_6_accuracy: 0.2191 - dense_8_accuracy: 0.1302 - dense_10_accuracy: 0.1018 - val_loss: 17.3498 - val_dense_2_loss: 3.5935 - val_dense_4_loss: 3.4488 - val_dense_6_loss: 3.4218 - val_dense_8_loss: 3.4439 - val_dense_10_loss: 3.5164 - val_dense_2_accuracy: 0.0515 - val_dense_4_accuracy: 0.1701 - val_dense_6_accuracy: 0.0515 - val_dense_8_accuracy: 0.0670 - val_dense_10_accuracy: 0.0309\n",
      "Epoch 7/30\n",
      "776/776 [==============================] - 2s 2ms/step - loss: 12.7213 - dense_2_loss: 2.3494 - dense_4_loss: 2.3295 - dense_6_loss: 2.4865 - dense_8_loss: 2.7619 - dense_10_loss: 2.7907 - dense_2_accuracy: 0.2101 - dense_4_accuracy: 0.2268 - dense_6_accuracy: 0.2384 - dense_8_accuracy: 0.1224 - dense_10_accuracy: 0.1314 - val_loss: 17.2567 - val_dense_2_loss: 3.6889 - val_dense_4_loss: 3.3574 - val_dense_6_loss: 3.3894 - val_dense_8_loss: 3.3991 - val_dense_10_loss: 3.4865 - val_dense_2_accuracy: 0.0515 - val_dense_4_accuracy: 0.2062 - val_dense_6_accuracy: 0.1082 - val_dense_8_accuracy: 0.0670 - val_dense_10_accuracy: 0.0155\n",
      "Epoch 8/30\n",
      "776/776 [==============================] - 2s 2ms/step - loss: 11.9582 - dense_2_loss: 2.1021 - dense_4_loss: 2.1536 - dense_6_loss: 2.3419 - dense_8_loss: 2.6778 - dense_10_loss: 2.6876 - dense_2_accuracy: 0.2809 - dense_4_accuracy: 0.3299 - dense_6_accuracy: 0.2848 - dense_8_accuracy: 0.1559 - dense_10_accuracy: 0.1211 - val_loss: 16.3502 - val_dense_2_loss: 3.6124 - val_dense_4_loss: 3.0760 - val_dense_6_loss: 3.1586 - val_dense_8_loss: 3.2950 - val_dense_10_loss: 3.2976 - val_dense_2_accuracy: 0.0515 - val_dense_4_accuracy: 0.3866 - val_dense_6_accuracy: 0.3505 - val_dense_8_accuracy: 0.2010 - val_dense_10_accuracy: 0.0928\n",
      "Epoch 9/30\n",
      "776/776 [==============================] - 2s 2ms/step - loss: 11.0270 - dense_2_loss: 1.8546 - dense_4_loss: 1.7949 - dense_6_loss: 2.1813 - dense_8_loss: 2.6046 - dense_10_loss: 2.5740 - dense_2_accuracy: 0.4162 - dense_4_accuracy: 0.4356 - dense_6_accuracy: 0.3170 - dense_8_accuracy: 0.1714 - dense_10_accuracy: 0.1598 - val_loss: 16.7151 - val_dense_2_loss: 3.6338 - val_dense_4_loss: 3.2540 - val_dense_6_loss: 3.2966 - val_dense_8_loss: 3.3149 - val_dense_10_loss: 3.3533 - val_dense_2_accuracy: 0.0515 - val_dense_4_accuracy: 0.0928 - val_dense_6_accuracy: 0.0928 - val_dense_8_accuracy: 0.0619 - val_dense_10_accuracy: 0.0206\n",
      "Epoch 10/30\n",
      "776/776 [==============================] - 2s 2ms/step - loss: 9.9879 - dense_2_loss: 1.4733 - dense_4_loss: 1.4838 - dense_6_loss: 1.9819 - dense_8_loss: 2.5405 - dense_10_loss: 2.4871 - dense_2_accuracy: 0.5760 - dense_4_accuracy: 0.5567 - dense_6_accuracy: 0.3905 - dense_8_accuracy: 0.2023 - dense_10_accuracy: 0.1907 - val_loss: 15.4098 - val_dense_2_loss: 4.1590 - val_dense_4_loss: 2.5673 - val_dense_6_loss: 2.7222 - val_dense_8_loss: 3.0860 - val_dense_10_loss: 2.9608 - val_dense_2_accuracy: 0.0052 - val_dense_4_accuracy: 0.5928 - val_dense_6_accuracy: 0.4330 - val_dense_8_accuracy: 0.2320 - val_dense_10_accuracy: 0.2268\n",
      "Epoch 11/30\n",
      "776/776 [==============================] - 2s 2ms/step - loss: 8.7548 - dense_2_loss: 1.1360 - dense_4_loss: 1.2243 - dense_6_loss: 1.7759 - dense_8_loss: 2.3587 - dense_10_loss: 2.2273 - dense_2_accuracy: 0.6456 - dense_4_accuracy: 0.6495 - dense_6_accuracy: 0.4459 - dense_8_accuracy: 0.2255 - dense_10_accuracy: 0.2552 - val_loss: 15.8029 - val_dense_2_loss: 3.7495 - val_dense_4_loss: 2.7940 - val_dense_6_loss: 3.2560 - val_dense_8_loss: 3.1272 - val_dense_10_loss: 3.0541 - val_dense_2_accuracy: 0.0464 - val_dense_4_accuracy: 0.3402 - val_dense_6_accuracy: 0.1495 - val_dense_8_accuracy: 0.2320 - val_dense_10_accuracy: 0.0670\n",
      "Epoch 12/30\n",
      "776/776 [==============================] - 2s 2ms/step - loss: 7.7274 - dense_2_loss: 0.8584 - dense_4_loss: 1.0572 - dense_6_loss: 1.5637 - dense_8_loss: 2.1966 - dense_10_loss: 2.0273 - dense_2_accuracy: 0.7371 - dense_4_accuracy: 0.6495 - dense_6_accuracy: 0.4961 - dense_8_accuracy: 0.2848 - dense_10_accuracy: 0.3415 - val_loss: 13.7766 - val_dense_2_loss: 4.6143 - val_dense_4_loss: 1.9374 - val_dense_6_loss: 2.2030 - val_dense_8_loss: 2.6439 - val_dense_10_loss: 2.4595 - val_dense_2_accuracy: 0.0464 - val_dense_4_accuracy: 0.7113 - val_dense_6_accuracy: 0.5619 - val_dense_8_accuracy: 0.3866 - val_dense_10_accuracy: 0.3763\n",
      "Epoch 13/30\n",
      "776/776 [==============================] - 2s 2ms/step - loss: 6.5948 - dense_2_loss: 0.6381 - dense_4_loss: 0.7435 - dense_6_loss: 1.3921 - dense_8_loss: 2.0002 - dense_10_loss: 1.8264 - dense_2_accuracy: 0.8183 - dense_4_accuracy: 0.7861 - dense_6_accuracy: 0.5580 - dense_8_accuracy: 0.3466 - dense_10_accuracy: 0.4098 - val_loss: 13.4753 - val_dense_2_loss: 4.9822 - val_dense_4_loss: 1.6726 - val_dense_6_loss: 2.0832 - val_dense_8_loss: 2.5136 - val_dense_10_loss: 2.1936 - val_dense_2_accuracy: 0.0258 - val_dense_4_accuracy: 0.8041 - val_dense_6_accuracy: 0.6392 - val_dense_8_accuracy: 0.4485 - val_dense_10_accuracy: 0.4175\n",
      "Epoch 14/30\n",
      "776/776 [==============================] - 2s 2ms/step - loss: 5.8371 - dense_2_loss: 0.6519 - dense_4_loss: 0.6007 - dense_6_loss: 1.2640 - dense_8_loss: 1.7352 - dense_10_loss: 1.6075 - dense_2_accuracy: 0.8067 - dense_4_accuracy: 0.8041 - dense_6_accuracy: 0.6186 - dense_8_accuracy: 0.4613 - dense_10_accuracy: 0.4510 - val_loss: 13.2950 - val_dense_2_loss: 6.3372 - val_dense_4_loss: 1.2250 - val_dense_6_loss: 1.7515 - val_dense_8_loss: 2.0600 - val_dense_10_loss: 1.8393 - val_dense_2_accuracy: 0.0515 - val_dense_4_accuracy: 0.7371 - val_dense_6_accuracy: 0.6701 - val_dense_8_accuracy: 0.5515 - val_dense_10_accuracy: 0.6134\n",
      "Epoch 15/30\n",
      "776/776 [==============================] - 2s 2ms/step - loss: 5.2140 - dense_2_loss: 0.4900 - dense_4_loss: 0.5605 - dense_6_loss: 1.1243 - dense_8_loss: 1.5572 - dense_10_loss: 1.4560 - dense_2_accuracy: 0.8505 - dense_4_accuracy: 0.8183 - dense_6_accuracy: 0.6456 - dense_8_accuracy: 0.4987 - dense_10_accuracy: 0.5284 - val_loss: 11.3859 - val_dense_2_loss: 5.4028 - val_dense_4_loss: 0.9819 - val_dense_6_loss: 1.5278 - val_dense_8_loss: 1.6984 - val_dense_10_loss: 1.6427 - val_dense_2_accuracy: 0.0515 - val_dense_4_accuracy: 0.8505 - val_dense_6_accuracy: 0.6753 - val_dense_8_accuracy: 0.6186 - val_dense_10_accuracy: 0.5876\n",
      "Epoch 16/30\n",
      "776/776 [==============================] - 2s 2ms/step - loss: 4.3729 - dense_2_loss: 0.3816 - dense_4_loss: 0.4958 - dense_6_loss: 0.9105 - dense_8_loss: 1.3317 - dense_10_loss: 1.2118 - dense_2_accuracy: 0.9008 - dense_4_accuracy: 0.8492 - dense_6_accuracy: 0.7036 - dense_8_accuracy: 0.5915 - dense_10_accuracy: 0.5863 - val_loss: 10.8690 - val_dense_2_loss: 5.4399 - val_dense_4_loss: 0.8235 - val_dense_6_loss: 1.2644 - val_dense_8_loss: 1.6541 - val_dense_10_loss: 1.4798 - val_dense_2_accuracy: 0.0515 - val_dense_4_accuracy: 0.8041 - val_dense_6_accuracy: 0.7268 - val_dense_8_accuracy: 0.6959 - val_dense_10_accuracy: 0.6392\n",
      "Epoch 17/30\n",
      "776/776 [==============================] - 2s 2ms/step - loss: 3.7536 - dense_2_loss: 0.3233 - dense_4_loss: 0.4341 - dense_6_loss: 0.7980 - dense_8_loss: 1.1600 - dense_10_loss: 1.0727 - dense_2_accuracy: 0.9072 - dense_4_accuracy: 0.8698 - dense_6_accuracy: 0.7436 - dense_8_accuracy: 0.6327 - dense_10_accuracy: 0.6392 - val_loss: 12.0671 - val_dense_2_loss: 7.6995 - val_dense_4_loss: 0.7045 - val_dense_6_loss: 1.1689 - val_dense_8_loss: 1.3976 - val_dense_10_loss: 1.0672 - val_dense_2_accuracy: 0.0515 - val_dense_4_accuracy: 0.8454 - val_dense_6_accuracy: 0.7474 - val_dense_8_accuracy: 0.6804 - val_dense_10_accuracy: 0.7887\n",
      "Epoch 18/30\n",
      "776/776 [==============================] - 2s 2ms/step - loss: 3.3864 - dense_2_loss: 0.2937 - dense_4_loss: 0.3704 - dense_6_loss: 0.7002 - dense_8_loss: 1.0514 - dense_10_loss: 0.9398 - dense_2_accuracy: 0.9201 - dense_4_accuracy: 0.8802 - dense_6_accuracy: 0.7577 - dense_8_accuracy: 0.6649 - dense_10_accuracy: 0.6933 - val_loss: 11.2362 - val_dense_2_loss: 7.5857 - val_dense_4_loss: 0.6036 - val_dense_6_loss: 0.8510 - val_dense_8_loss: 1.1594 - val_dense_10_loss: 0.8963 - val_dense_2_accuracy: 0.0515 - val_dense_4_accuracy: 0.8247 - val_dense_6_accuracy: 0.7577 - val_dense_8_accuracy: 0.6959 - val_dense_10_accuracy: 0.7371\n",
      "Epoch 19/30\n",
      "776/776 [==============================] - 2s 2ms/step - loss: 2.9951 - dense_2_loss: 0.2854 - dense_4_loss: 0.3307 - dense_6_loss: 0.6335 - dense_8_loss: 0.9245 - dense_10_loss: 0.8302 - dense_2_accuracy: 0.9227 - dense_4_accuracy: 0.8905 - dense_6_accuracy: 0.7809 - dense_8_accuracy: 0.6881 - dense_10_accuracy: 0.7010 - val_loss: 12.1004 - val_dense_2_loss: 8.6455 - val_dense_4_loss: 0.5705 - val_dense_6_loss: 0.7765 - val_dense_8_loss: 1.0813 - val_dense_10_loss: 0.7995 - val_dense_2_accuracy: 0.0515 - val_dense_4_accuracy: 0.8351 - val_dense_6_accuracy: 0.7835 - val_dense_8_accuracy: 0.7062 - val_dense_10_accuracy: 0.7474\n",
      "Epoch 20/30\n",
      "776/776 [==============================] - 2s 2ms/step - loss: 2.5956 - dense_2_loss: 0.2239 - dense_4_loss: 0.3014 - dense_6_loss: 0.5756 - dense_8_loss: 0.7682 - dense_10_loss: 0.7183 - dense_2_accuracy: 0.9343 - dense_4_accuracy: 0.8982 - dense_6_accuracy: 0.8041 - dense_8_accuracy: 0.7410 - dense_10_accuracy: 0.7668 - val_loss: 13.2529 - val_dense_2_loss: 10.0378 - val_dense_4_loss: 0.5240 - val_dense_6_loss: 0.7868 - val_dense_8_loss: 1.0031 - val_dense_10_loss: 0.6792 - val_dense_2_accuracy: 0.0515 - val_dense_4_accuracy: 0.8299 - val_dense_6_accuracy: 0.7732 - val_dense_8_accuracy: 0.7062 - val_dense_10_accuracy: 0.8196\n",
      "Epoch 21/30\n",
      "776/776 [==============================] - 2s 2ms/step - loss: 2.2686 - dense_2_loss: 0.1915 - dense_4_loss: 0.1925 - dense_6_loss: 0.5551 - dense_8_loss: 0.6742 - dense_10_loss: 0.6239 - dense_2_accuracy: 0.9381 - dense_4_accuracy: 0.9240 - dense_6_accuracy: 0.8106 - dense_8_accuracy: 0.7719 - dense_10_accuracy: 0.7990 - val_loss: 12.9105 - val_dense_2_loss: 10.0368 - val_dense_4_loss: 0.5291 - val_dense_6_loss: 0.6928 - val_dense_8_loss: 0.9733 - val_dense_10_loss: 0.6239 - val_dense_2_accuracy: 0.0515 - val_dense_4_accuracy: 0.8402 - val_dense_6_accuracy: 0.7887 - val_dense_8_accuracy: 0.7165 - val_dense_10_accuracy: 0.8041\n",
      "Epoch 22/30\n",
      "776/776 [==============================] - 2s 2ms/step - loss: 2.2477 - dense_2_loss: 0.2274 - dense_4_loss: 0.2502 - dense_6_loss: 0.4690 - dense_8_loss: 0.6897 - dense_10_loss: 0.6224 - dense_2_accuracy: 0.9330 - dense_4_accuracy: 0.9330 - dense_6_accuracy: 0.8376 - dense_8_accuracy: 0.7706 - dense_10_accuracy: 0.7822 - val_loss: 12.1892 - val_dense_2_loss: 9.0921 - val_dense_4_loss: 0.4937 - val_dense_6_loss: 0.7111 - val_dense_8_loss: 1.1188 - val_dense_10_loss: 0.6239 - val_dense_2_accuracy: 0.0515 - val_dense_4_accuracy: 0.8763 - val_dense_6_accuracy: 0.8041 - val_dense_8_accuracy: 0.7268 - val_dense_10_accuracy: 0.8299\n",
      "Epoch 23/30\n",
      "776/776 [==============================] - 2s 2ms/step - loss: 1.9256 - dense_2_loss: 0.1649 - dense_4_loss: 0.1685 - dense_6_loss: 0.4566 - dense_8_loss: 0.6286 - dense_10_loss: 0.5330 - dense_2_accuracy: 0.9562 - dense_4_accuracy: 0.9381 - dense_6_accuracy: 0.8582 - dense_8_accuracy: 0.7938 - dense_10_accuracy: 0.8067 - val_loss: 15.1587 - val_dense_2_loss: 12.3975 - val_dense_4_loss: 0.5902 - val_dense_6_loss: 0.6808 - val_dense_8_loss: 0.8251 - val_dense_10_loss: 0.5591 - val_dense_2_accuracy: 0.0515 - val_dense_4_accuracy: 0.8763 - val_dense_6_accuracy: 0.7835 - val_dense_8_accuracy: 0.7577 - val_dense_10_accuracy: 0.8402\n",
      "Epoch 24/30\n",
      "776/776 [==============================] - 2s 2ms/step - loss: 1.8849 - dense_2_loss: 0.2319 - dense_4_loss: 0.2060 - dense_6_loss: 0.4330 - dense_8_loss: 0.5036 - dense_10_loss: 0.5117 - dense_2_accuracy: 0.9330 - dense_4_accuracy: 0.9291 - dense_6_accuracy: 0.8505 - dense_8_accuracy: 0.8299 - dense_10_accuracy: 0.8222 - val_loss: 15.8914 - val_dense_2_loss: 12.9344 - val_dense_4_loss: 0.5791 - val_dense_6_loss: 0.6592 - val_dense_8_loss: 0.8309 - val_dense_10_loss: 0.6253 - val_dense_2_accuracy: 0.0515 - val_dense_4_accuracy: 0.8711 - val_dense_6_accuracy: 0.7990 - val_dense_8_accuracy: 0.7835 - val_dense_10_accuracy: 0.7990\n",
      "Epoch 25/30\n",
      "776/776 [==============================] - 2s 2ms/step - loss: 1.7073 - dense_2_loss: 0.1552 - dense_4_loss: 0.1642 - dense_6_loss: 0.3661 - dense_8_loss: 0.5661 - dense_10_loss: 0.4563 - dense_2_accuracy: 0.9497 - dense_4_accuracy: 0.9446 - dense_6_accuracy: 0.8544 - dense_8_accuracy: 0.7796 - dense_10_accuracy: 0.8247 - val_loss: 15.7265 - val_dense_2_loss: 13.3597 - val_dense_4_loss: 0.5580 - val_dense_6_loss: 0.6599 - val_dense_8_loss: 0.7665 - val_dense_10_loss: 0.5422 - val_dense_2_accuracy: 0.0515 - val_dense_4_accuracy: 0.8711 - val_dense_6_accuracy: 0.7990 - val_dense_8_accuracy: 0.7732 - val_dense_10_accuracy: 0.8454\n",
      "Epoch 26/30\n",
      "776/776 [==============================] - 2s 2ms/step - loss: 1.6408 - dense_2_loss: 0.1674 - dense_4_loss: 0.1744 - dense_6_loss: 0.4075 - dense_8_loss: 0.5038 - dense_10_loss: 0.3959 - dense_2_accuracy: 0.9446 - dense_4_accuracy: 0.9330 - dense_6_accuracy: 0.8673 - dense_8_accuracy: 0.8247 - dense_10_accuracy: 0.8454 - val_loss: 16.6479 - val_dense_2_loss: 14.2927 - val_dense_4_loss: 0.5731 - val_dense_6_loss: 0.5936 - val_dense_8_loss: 0.7814 - val_dense_10_loss: 0.4691 - val_dense_2_accuracy: 0.0515 - val_dense_4_accuracy: 0.8660 - val_dense_6_accuracy: 0.8247 - val_dense_8_accuracy: 0.7680 - val_dense_10_accuracy: 0.8711\n",
      "Epoch 27/30\n",
      "776/776 [==============================] - 2s 2ms/step - loss: 1.4384 - dense_2_loss: 0.1081 - dense_4_loss: 0.1690 - dense_6_loss: 0.3380 - dense_8_loss: 0.4195 - dense_10_loss: 0.3920 - dense_2_accuracy: 0.9691 - dense_4_accuracy: 0.9549 - dense_6_accuracy: 0.8802 - dense_8_accuracy: 0.8492 - dense_10_accuracy: 0.8660 - val_loss: 17.7644 - val_dense_2_loss: 15.0829 - val_dense_4_loss: 0.7044 - val_dense_6_loss: 0.6110 - val_dense_8_loss: 0.7304 - val_dense_10_loss: 0.4987 - val_dense_2_accuracy: 0.0515 - val_dense_4_accuracy: 0.8454 - val_dense_6_accuracy: 0.8247 - val_dense_8_accuracy: 0.7938 - val_dense_10_accuracy: 0.8402\n",
      "Epoch 28/30\n",
      "776/776 [==============================] - 2s 2ms/step - loss: 1.3672 - dense_2_loss: 0.0977 - dense_4_loss: 0.1360 - dense_6_loss: 0.2704 - dense_8_loss: 0.4352 - dense_10_loss: 0.4189 - dense_2_accuracy: 0.9678 - dense_4_accuracy: 0.9613 - dense_6_accuracy: 0.8956 - dense_8_accuracy: 0.8492 - dense_10_accuracy: 0.8518 - val_loss: 17.6598 - val_dense_2_loss: 15.0210 - val_dense_4_loss: 0.6217 - val_dense_6_loss: 0.5745 - val_dense_8_loss: 0.8773 - val_dense_10_loss: 0.5147 - val_dense_2_accuracy: 0.0515 - val_dense_4_accuracy: 0.8454 - val_dense_6_accuracy: 0.8351 - val_dense_8_accuracy: 0.7680 - val_dense_10_accuracy: 0.8505\n",
      "Epoch 29/30\n",
      "776/776 [==============================] - 2s 2ms/step - loss: 1.3832 - dense_2_loss: 0.1141 - dense_4_loss: 0.1743 - dense_6_loss: 0.2788 - dense_8_loss: 0.4063 - dense_10_loss: 0.4204 - dense_2_accuracy: 0.9613 - dense_4_accuracy: 0.9394 - dense_6_accuracy: 0.9021 - dense_8_accuracy: 0.8621 - dense_10_accuracy: 0.8737 - val_loss: 18.6504 - val_dense_2_loss: 15.4002 - val_dense_4_loss: 0.8199 - val_dense_6_loss: 0.6400 - val_dense_8_loss: 1.0749 - val_dense_10_loss: 0.6099 - val_dense_2_accuracy: 0.0515 - val_dense_4_accuracy: 0.8247 - val_dense_6_accuracy: 0.8144 - val_dense_8_accuracy: 0.7938 - val_dense_10_accuracy: 0.8402\n",
      "Epoch 30/30\n",
      "776/776 [==============================] - 2s 2ms/step - loss: 1.3340 - dense_2_loss: 0.1381 - dense_4_loss: 0.1649 - dense_6_loss: 0.2787 - dense_8_loss: 0.3693 - dense_10_loss: 0.3675 - dense_2_accuracy: 0.9639 - dense_4_accuracy: 0.9356 - dense_6_accuracy: 0.9021 - dense_8_accuracy: 0.8711 - dense_10_accuracy: 0.8608 - val_loss: nan - val_dense_2_loss: nan - val_dense_4_loss: 0.7126 - val_dense_6_loss: 0.6626 - val_dense_8_loss: 1.0368 - val_dense_10_loss: 0.5827 - val_dense_2_accuracy: 0.0464 - val_dense_4_accuracy: 0.8660 - val_dense_6_accuracy: 0.8299 - val_dense_8_accuracy: 0.7784 - val_dense_10_accuracy: 0.8557\n"
     ]
    }
   ],
   "source": [
    "#Model fitting\n",
    "hist = model.fit(X_train, [y_train[0],y_train[1], y_train[2], y_train[3], y_train[4]],\n",
    "                 batch_size=32,\n",
    "                 epochs=30, verbose=1, validation_split=0.2)"
   ]
  },
  {
   "cell_type": "code",
   "execution_count": 8,
   "metadata": {},
   "outputs": [
    {
     "name": "stdout",
     "output_type": "stream",
     "text": [
      "100/100 [==============================] - 0s 783us/step\n",
      "Accuracy of Testing:  [nan, nan, 0.6501163244247437, 0.6200307607650757, 0.5717743039131165, 0.6035063862800598, 0.7900000214576721, 0.8700000047683716, 0.8299999833106995, 0.8700000047683716, 0.8500000238418579]\n"
     ]
    }
   ],
   "source": [
    "#Model Evaluation\n",
    "score_test = model.evaluate(X_test,[y_test[0], y_test[1], y_test[2], y_test[3], y_test[4]],  verbose=1)\n",
    "                            \n",
    "print(\"Accuracy of Testing: \",score_test)"
   ]
  },
  {
   "cell_type": "markdown",
   "metadata": {},
   "source": [
    "### Intrepretation of results"
   ]
  },
  {
   "cell_type": "markdown",
   "metadata": {},
   "source": [
    "From the results of the test we can see that the model trained pretty well the 5 numbers give us the accuracy per letter. This averages for an overall ~83%. This is fairly accurate. Results may have been better with a lower validation size to allow for larger training set. "
   ]
  },
  {
   "cell_type": "markdown",
   "metadata": {},
   "source": [
    "#### Model 2"
   ]
  },
  {
   "cell_type": "markdown",
   "metadata": {},
   "source": [
    "Though the model above is pretty good. It will still be wise to try out another model to see if we can make it even better. 1 option is to tune the parameters of the CNN also know as hyperparameterization. This can be done manually or through algothrims. Since we are dealing with less demsionality and more important pixel, I have taken a more manual approach. We noted above that there was also a line going through the image efforts to remove the line could also result in better results. "
   ]
  },
  {
   "cell_type": "code",
   "execution_count": 9,
   "metadata": {},
   "outputs": [],
   "source": [
    "#Rework the preprocessing to for getting rid of the line through the characters\n",
    "kernel =np.ones((3,1),np.uint8)\n",
    "borderType = cv2.BORDER_CONSTANT\n",
    "def pad(src): \n",
    "    top = int(0.05 * src.shape[0])  # shape[0] = rows\n",
    "    bottom = top\n",
    "    left = int(0.15 * src.shape[1])  # shape[1] = cols\n",
    "    right = left\n",
    "    des=cv2.copyMakeBorder(src, top, bottom, left+1, right, borderType, None,255)\n",
    "    return cv2.bitwise_not(des)\n",
    "\n",
    "def process_v2(type):\n",
    "    \n",
    "    X=[]\n",
    "    y=[]\n",
    "    \n",
    "    for image in list(os.listdir(type)):\n",
    "        im=cv2.imread(os.path.join(type,image),0)\n",
    "        threshold=cv2.adaptiveThreshold(im, 255, cv2.ADAPTIVE_THRESH_GAUSSIAN_C,cv2.THRESH_BINARY, 199, 5)\n",
    "        erosion =cv2.dilate(threshold,kernel,iterations=2)\n",
    "        s=str(image)\n",
    "        for i in range(5):\n",
    "            X.append(pad(erosion[:,(30+23*i):(30+23*(i+1))]))\n",
    "            y.append(s[-9+i])\n",
    "\n",
    "    X = np.reshape(np.array(X),(-1,54,30,1))\n",
    "    y = np.array(y)\n",
    "        \n",
    "    targ = []\n",
    "    l=['2','3','4','5','6','7','8','b','c','d','e','f','g','m','n','p','w','x','y']\n",
    "    for j in y:\n",
    "        i=l.index(j)\n",
    "        a=[]\n",
    "        for r in range(19):\n",
    "            if(r==i):\n",
    "                a.append(1)\n",
    "            else:\n",
    "                a.append(0)\n",
    "        a=np.array(a)\n",
    "        targ.append(a)\n",
    "    targ=np.array(targ) \n",
    "    y=np.array(targ) \n",
    "        \n",
    "    return X,y\n"
   ]
  },
  {
   "cell_type": "code",
   "execution_count": 10,
   "metadata": {},
   "outputs": [],
   "source": [
    "X_train_v2, y_train_v2 = process_v2(train)\n",
    "X_test_v2, y_test_v2 = process_v2(test)"
   ]
  },
  {
   "cell_type": "code",
   "execution_count": 11,
   "metadata": {},
   "outputs": [],
   "source": [
    "def create_model_v2():\n",
    "    model2 = Sequential()\n",
    "    model2.add(Conv2D(filters = 16, kernel_size = (5,5),padding = 'Same', \n",
    "                     activation ='relu', input_shape = (54,30,1)))\n",
    "    model2.add(Conv2D(filters = 16, kernel_size = (5,5),padding = 'Same', \n",
    "                     activation ='relu'))\n",
    "    model2.add(MaxPool2D(pool_size=(2,2)))\n",
    "    model2.add(Dropout(0.25))\n",
    "\n",
    "    model2.add(Conv2D(filters = 32, kernel_size = (5,5),padding = 'Same', \n",
    "                     activation ='relu'))\n",
    "    model2.add(Conv2D(filters = 32, kernel_size = (5,5),padding = 'Same', \n",
    "                     activation ='relu'))\n",
    "    model2.add(MaxPool2D(pool_size=(2,2)))\n",
    "    model2.add(Dropout(0.25))\n",
    "\n",
    "\n",
    "    model2.add(Conv2D(filters = 64, kernel_size = (3,3),padding = 'Same', \n",
    "                     activation ='relu'))\n",
    "    model2.add(Conv2D(filters = 64, kernel_size = (3,3),padding = 'Same', \n",
    "                     activation ='relu'))\n",
    "    model2.add(MaxPool2D(pool_size=(2,2), strides=(2,2)))\n",
    "    model2.add(Dropout(0.25))\n",
    "\n",
    "    model2.add(Flatten())\n",
    "    model2.add(Dense(256, activation = \"relu\"))\n",
    "    model2.add(Dropout(0.5))\n",
    "    model2.add(Dense(19, activation = \"softmax\"))\n",
    "    \n",
    "    \n",
    "\n",
    "    optimizer = RMSprop(lr=0.001, rho=0.9, epsilon=1e-08, decay=0.0)\n",
    "    model2.compile(optimizer = optimizer , loss = \"categorical_crossentropy\", metrics=[\"accuracy\"])\n",
    "\n",
    "    return model2\n",
    "\n"
   ]
  },
  {
   "cell_type": "code",
   "execution_count": 12,
   "metadata": {},
   "outputs": [],
   "source": [
    "#Setup learning rate for dropping out \n",
    "learning_rate_reduction = ReduceLROnPlateau(monitor='val_accuracy', \n",
    "                                                patience=3, \n",
    "                                                verbose=1, \n",
    "                                                factor=0.5, \n",
    "                                              min_lr=0.00001)\n",
    "\n",
    "#Inspired from another Kaggle Notebook for augmenting the image for randomization in should increase accuracy, \n",
    "# as we create randomization in the data during modeling to deal with shifts in the characters\n",
    "datagen = ImageDataGenerator(\n",
    "        featurewise_center=False,  # set input mean to 0 over the dataset\n",
    "        samplewise_center=False,  # set each sample mean to 0\n",
    "        featurewise_std_normalization=False,  # divide inputs by std of the dataset\n",
    "        samplewise_std_normalization=False,  # divide each input by its std\n",
    "        zca_whitening=False,  # apply ZCA whitening\n",
    "        rotation_range=5,  # randomly rotate images in the range (degrees, 0 to 180)\n",
    "        zoom_range = False, # Randomly zoom image \n",
    "        width_shift_range=0.1,  # randomly shift images horizontally (fraction of total width)\n",
    "        height_shift_range=0.1,  # randomly shift images vertically (fraction of total height)\n",
    "        horizontal_flip=False,  # randomly flip images\n",
    "        vertical_flip=False)  # randomly flip images"
   ]
  },
  {
   "cell_type": "code",
   "execution_count": 13,
   "metadata": {},
   "outputs": [
    {
     "name": "stdout",
     "output_type": "stream",
     "text": [
      "Epoch 1/30\n",
      "50/50 [==============================] - 5s 106ms/step - loss: 2.6901 - accuracy: 0.1676 - val_loss: 1.4184 - val_accuracy: 0.5464\n",
      "Epoch 2/30\n",
      "50/50 [==============================] - 5s 92ms/step - loss: 1.8472 - accuracy: 0.4291 - val_loss: 0.9868 - val_accuracy: 0.7814\n",
      "Epoch 3/30\n",
      "50/50 [==============================] - 5s 94ms/step - loss: 1.3281 - accuracy: 0.6050 - val_loss: 0.6371 - val_accuracy: 0.8289\n",
      "Epoch 4/30\n",
      "50/50 [==============================] - 5s 94ms/step - loss: 1.0437 - accuracy: 0.6915 - val_loss: 0.4241 - val_accuracy: 0.8639\n",
      "Epoch 5/30\n",
      "50/50 [==============================] - 5s 97ms/step - loss: 0.8638 - accuracy: 0.7357 - val_loss: 0.3046 - val_accuracy: 0.9052\n",
      "Epoch 6/30\n",
      "50/50 [==============================] - 5s 93ms/step - loss: 0.7027 - accuracy: 0.7950 - val_loss: 0.2789 - val_accuracy: 0.9155\n",
      "Epoch 7/30\n",
      "50/50 [==============================] - 4s 90ms/step - loss: 0.5986 - accuracy: 0.8177 - val_loss: 0.2206 - val_accuracy: 0.9278\n",
      "Epoch 8/30\n",
      "50/50 [==============================] - 5s 94ms/step - loss: 0.5236 - accuracy: 0.8396 - val_loss: 0.1884 - val_accuracy: 0.9381\n",
      "Epoch 9/30\n",
      "50/50 [==============================] - 5s 95ms/step - loss: 0.4541 - accuracy: 0.8656 - val_loss: 0.2855 - val_accuracy: 0.8990\n",
      "Epoch 10/30\n",
      "50/50 [==============================] - 5s 96ms/step - loss: 0.4205 - accuracy: 0.8719 - val_loss: 0.1642 - val_accuracy: 0.9546\n",
      "Epoch 11/30\n",
      "50/50 [==============================] - 4s 90ms/step - loss: 0.3681 - accuracy: 0.8885 - val_loss: 0.1816 - val_accuracy: 0.9402\n",
      "Epoch 12/30\n",
      "50/50 [==============================] - 5s 95ms/step - loss: 0.3448 - accuracy: 0.8949 - val_loss: 0.1356 - val_accuracy: 0.9567\n",
      "Epoch 13/30\n",
      "50/50 [==============================] - 4s 88ms/step - loss: 0.3356 - accuracy: 0.9047 - val_loss: 0.1302 - val_accuracy: 0.9485\n",
      "Epoch 14/30\n",
      "50/50 [==============================] - 5s 94ms/step - loss: 0.2995 - accuracy: 0.9114 - val_loss: 0.1265 - val_accuracy: 0.9464\n",
      "Epoch 15/30\n",
      "50/50 [==============================] - 4s 88ms/step - loss: 0.2922 - accuracy: 0.9072 - val_loss: 0.1251 - val_accuracy: 0.9608\n",
      "Epoch 16/30\n",
      "50/50 [==============================] - 5s 91ms/step - loss: 0.2533 - accuracy: 0.9247 - val_loss: 0.1087 - val_accuracy: 0.9608\n",
      "Epoch 17/30\n",
      "50/50 [==============================] - 5s 93ms/step - loss: 0.2512 - accuracy: 0.9235 - val_loss: 0.1072 - val_accuracy: 0.9711\n",
      "Epoch 18/30\n",
      "50/50 [==============================] - 5s 95ms/step - loss: 0.2375 - accuracy: 0.9308 - val_loss: 0.1015 - val_accuracy: 0.9546\n",
      "Epoch 19/30\n",
      "50/50 [==============================] - 4s 89ms/step - loss: 0.2232 - accuracy: 0.9310 - val_loss: 0.1758 - val_accuracy: 0.9485\n",
      "Epoch 20/30\n",
      "50/50 [==============================] - 5s 92ms/step - loss: 0.2278 - accuracy: 0.9337 - val_loss: 0.1077 - val_accuracy: 0.9691\n",
      "\n",
      "Epoch 00020: ReduceLROnPlateau reducing learning rate to 0.0005000000237487257.\n",
      "Epoch 21/30\n",
      "50/50 [==============================] - 4s 88ms/step - loss: 0.1867 - accuracy: 0.9457 - val_loss: 0.1036 - val_accuracy: 0.9629\n",
      "Epoch 22/30\n",
      "50/50 [==============================] - 5s 92ms/step - loss: 0.1690 - accuracy: 0.9467 - val_loss: 0.0917 - val_accuracy: 0.9588\n",
      "Epoch 23/30\n",
      "50/50 [==============================] - 4s 88ms/step - loss: 0.1651 - accuracy: 0.9556 - val_loss: 0.0806 - val_accuracy: 0.9794\n",
      "Epoch 24/30\n",
      "50/50 [==============================] - 5s 91ms/step - loss: 0.1585 - accuracy: 0.9544 - val_loss: 0.0959 - val_accuracy: 0.9670\n",
      "Epoch 25/30\n",
      "50/50 [==============================] - 5s 96ms/step - loss: 0.1597 - accuracy: 0.9519 - val_loss: 0.0806 - val_accuracy: 0.9649\n",
      "Epoch 26/30\n",
      "50/50 [==============================] - 5s 90ms/step - loss: 0.1461 - accuracy: 0.9584 - val_loss: 0.0791 - val_accuracy: 0.9691\n",
      "\n",
      "Epoch 00026: ReduceLROnPlateau reducing learning rate to 0.0002500000118743628.\n",
      "Epoch 27/30\n",
      "50/50 [==============================] - 4s 88ms/step - loss: 0.1285 - accuracy: 0.9656 - val_loss: 0.0709 - val_accuracy: 0.9794\n",
      "Epoch 28/30\n",
      "50/50 [==============================] - 5s 92ms/step - loss: 0.1278 - accuracy: 0.9614 - val_loss: 0.0831 - val_accuracy: 0.9773\n",
      "Epoch 29/30\n",
      "50/50 [==============================] - 4s 89ms/step - loss: 0.1279 - accuracy: 0.9633 - val_loss: 0.0706 - val_accuracy: 0.9753\n",
      "\n",
      "Epoch 00029: ReduceLROnPlateau reducing learning rate to 0.0001250000059371814.\n",
      "Epoch 30/30\n",
      "50/50 [==============================] - 5s 91ms/step - loss: 0.1241 - accuracy: 0.9627 - val_loss: 0.0801 - val_accuracy: 0.9753\n"
     ]
    }
   ],
   "source": [
    "#Due to using the fit_generator we will not be able to use the setting validation_split =.2 as we used earlier. \n",
    "#spliting the data\n",
    "X_train_v2, X_val, y_train_v2, y_val = train_test_split(X_train_v2, y_train_v2, test_size = 0.1, random_state= 2)\n",
    "X_train_v2=X_train_v2/255.0\n",
    "X_val=X_val/255.0\n",
    "\n",
    "\n",
    "#Fitting the model and augmenting the data\n",
    "datagen.fit(X_train_v2)\n",
    "model2 = create_model_v2()\n",
    "history = model2.fit_generator(datagen.flow(X_train_v2,y_train_v2, batch_size=86),\n",
    "                              epochs =  30, \n",
    "                              verbose = 1,\n",
    "                              validation_data = (X_val,y_val),\n",
    "                              steps_per_epoch=X_train_v2.shape[0] // 86,\n",
    "                              callbacks=[learning_rate_reduction])"
   ]
  },
  {
   "cell_type": "code",
   "execution_count": 14,
   "metadata": {},
   "outputs": [
    {
     "name": "stdout",
     "output_type": "stream",
     "text": [
      "500/500 [==============================] - 0s 382us/step\n",
      "Accuracy of Testing:  [21.08281930541992, 0.9660000205039978]\n"
     ]
    }
   ],
   "source": [
    "#Model Evaluation\n",
    "score_test2 = model2.evaluate(X_test_v2,y_test_v2,  verbose=1)\n",
    "                            \n",
    "print(\"Accuracy of Testing: \",score_test2)"
   ]
  },
  {
   "cell_type": "markdown",
   "metadata": {},
   "source": [
    "## Final Interpretation of Results"
   ]
  },
  {
   "cell_type": "markdown",
   "metadata": {},
   "source": [
    "As seen above we can see that the second model overall had much better results with the test about 96.6% Accuracy. I will not there were some notable changes in this testing we used a 10% validation set, 0 and 1 were not included in the accecptable characters (ie only the characters that showed up in the 970 examples were utilized.) In addition to the overall model changing considerably there were double the amount of convultion and data was also fited for tilts in each of the charcters of the data set. With the restriction of characters to those found in the train set one may say this would make the general use case not as strong. Further examples and testing could be done to optimize for these or editing of the first model via more edge case, utlizing the same agumentation technique, or also using an optimizer on the first model could result in a better first model and more generalizeable model. "
   ]
  },
  {
   "cell_type": "markdown",
   "metadata": {},
   "source": [
    "#### Analyze Wrong Predictions"
   ]
  },
  {
   "cell_type": "code",
   "execution_count": 25,
   "metadata": {},
   "outputs": [
    {
     "data": {
      "image/png": "[encoded data removed]",
      "text/plain": [
       "<Figure size 720x720 with 16 Axes>"
      ]
     },
     "metadata": {
      "needs_background": "light"
     },
     "output_type": "display_data"
    }
   ],
   "source": [
    "Y_predict = model2.predict(X_test_v2)\n",
    "\n",
    "# Convert predictions classes and validation to one hot vectors \n",
    "predict_cl = np.argmax(Y_predict,axis = 1) \n",
    "Y_true = np.argmax(y_test_v2,axis = 1) \n",
    "errors = (predict_cl - Y_true != 0)\n",
    "\n",
    "#Selection of only Errors from sets of data\n",
    "Y_pred_classes_err = predict_cl[errors]\n",
    "Y_pred_err = Y_predict[errors]\n",
    "Y_true_err = Y_true[errors]\n",
    "X_test_err = X_test_v2[errors]\n",
    "\n",
    "# Probabilities of the wrong predicted numbers\n",
    "Y_pred_err_prob = np.max(Y_pred_err,axis = 1)\n",
    "\n",
    "# Predicted probabilities of the true values in the error set\n",
    "true_prob_err = np.diagonal(np.take(Y_pred_err, Y_true_err, axis=1))\n",
    "\n",
    "# Difference between the probability of the predicted label and the true label\n",
    "delta_pred_true_err = Y_pred_err_prob - true_prob_err\n",
    "\n",
    "# Sorted list of the delta prob errors\n",
    "sorted_err = np.argsort(delta_pred_true_err)\n",
    "\n",
    "#  Calculate and Display Errors for Individual Characters\n",
    "# Can be adjusted for top # of errors but the below shows the 20 Wrong\n",
    "def display_errors(errors_index,img_errors,pred_errors, obs_errors):\n",
    "    n = 0\n",
    "    nrows = 4\n",
    "    ncols = 4\n",
    "    fig, ax = plt.subplots(nrows,ncols,sharex=True,sharey=True,figsize=(10,10))\n",
    "    for row in range(nrows):\n",
    "        for col in range(ncols):\n",
    "            error = errors_index[n]\n",
    "            ax[row,col].imshow((img_errors[error]).reshape((54,30)))\n",
    "            ax[row,col].set_title(\"Predicted label :{}\\nTrue label :{}\".format(pred_errors[error],obs_errors[error]))\n",
    "            n += 1\n",
    "            \n",
    "\n",
    "#Calls above function to return Errors (Shape is 17 for cleaniness we pulled 4x4 = 16 errors of 17)\n",
    "display_errors(sorted_err, X_test_err, Y_pred_classes_err, Y_true_err)\n",
    "\n",
    "#l=['2','3','4','5','6','7','8','b','c','d','e','f','g','m','n','p','w','x','y']\n",
    "#l=[0    1   2   3   4   5   6   7   8   9   10  11  12  13  14  15  16  17  18]"
   ]
  },
  {
   "cell_type": "markdown",
   "metadata": {},
   "source": [
    "From the errors above we can see that marjority are off center from where the transformation split the image. Due to being off center key points seem to be missing from the image. Take 15th image for instance, the predicted label is a 2 however it really is a 'e', looking to the left side of the image that seems reasonable, however what appears to be a 2 or 7 is actually what is being picked up for the prediction as the image is clearer. We also see some streaking from the removal of the lines using the Gaussian Blur in the data processing. To enhance further we could consider adding stretching/translations to some of the pixel much like we did with the tilting variance we implemented while modeling. "
   ]
  },
  {
   "cell_type": "markdown",
   "metadata": {},
   "source": [
    "## Predicting Results"
   ]
  },
  {
   "cell_type": "markdown",
   "metadata": {},
   "source": [
    "A model is useless unless you can put it into production. So for this we will need to create a function that we can call and predict  the results from. This can also act as another form of validation. Becuase the first model was faster in creation, the below function was made based on that model. However, this could be easily adapted for the other model and more than one input solver."
   ]
  },
  {
   "cell_type": "code",
   "execution_count": 26,
   "metadata": {},
   "outputs": [],
   "source": [
    "def prediction(filelocation):\n",
    "    to_predict = cv2.imread(filelocation, cv2.IMREAD_GRAYSCALE)\n",
    "\n",
    "    if to_predict is not None:\n",
    "        to_predict = to_predict/ 255.0\n",
    "\n",
    "    else: \n",
    "        print(\"File not found\")\n",
    "        \n",
    "    res = np.array(model.predict(to_predict[np.newaxis, :, :, np.newaxis]))\n",
    "    ans = np.reshape(res, (5, 36))\n",
    "    \n",
    "    #For each letter prediction we tage the max possibility much like Random Forest\n",
    "    l_ind = []\n",
    "    for a in ans: \n",
    "        l_ind.append(np.argmax(a))\n",
    "\n",
    "    #Output a full captcha instead of a list of the letters predicted.   \n",
    "    capt_ch = ''\n",
    "    for l in l_ind:\n",
    "        capt_ch += symbols[l]\n",
    "        \n",
    "    return capt_ch\n",
    "        "
   ]
  },
  {
   "cell_type": "code",
   "execution_count": 27,
   "metadata": {},
   "outputs": [
    {
     "name": "stdout",
     "output_type": "stream",
     "text": [
      "22d5n\n",
      "25w53\n",
      "268g2\n",
      "2ycn8\n"
     ]
    }
   ],
   "source": [
    "print(prediction('../Project/train/22d5n.png'))\n",
    "print(prediction('../Project/train/25w53.png'))\n",
    "print(prediction('../Project/train/268g2.png'))\n",
    "print(prediction('../Project/train/2ycn8.png'))"
   ]
  },
  {
   "cell_type": "code",
   "execution_count": null,
   "metadata": {},
   "outputs": [],
   "source": []
  }
 ],
 "metadata": {
  "colab": {
   "name": "Project_Discription.ipynb",
   "provenance": [],
   "toc_visible": true
  },
  "kernelspec": {
   "display_name": "Python 3",
   "language": "python",
   "name": "python3"
  },
  "language_info": {
   "codemirror_mode": {
    "name": "ipython",
    "version": 3
   },
   "file_extension": ".py",
   "mimetype": "text/x-python",
   "name": "python",
   "nbconvert_exporter": "python",
   "pygments_lexer": "ipython3",
   "version": "3.7.6"
  }
 },
 "nbformat": 4,
 "nbformat_minor": 4
}

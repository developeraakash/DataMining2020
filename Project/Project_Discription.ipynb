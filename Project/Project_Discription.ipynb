{
 "cells": [
  {
   "cell_type": "markdown",
   "metadata": {
    "id": "x_RORTmNzkYx"
   },
   "source": [
    "# Data Mining for Security Applications: final project\n",
    "\n",
    "This final hands on project will count for 50% of your final grade (exam is the other 50%)"
   ]
  },
  {
   "cell_type": "markdown",
   "metadata": {
    "id": "Q8F4RGo-zkY4"
   },
   "source": [
    "## Organization\n",
    "* you can start the project as of now\n",
    "* the project has to be handed in no later than March 1st - NO EXTENSIONS!\n",
    "\n",
    "### Project Submission \n",
    "* hand in a single jupyter notebook for your project (via moodle)\n",
    "* set all paths as relative paths such that the data is in the same folder as the notebook\n",
    "* your notebook should run without errors (uncomment parts that do not work)\n",
    "* Use markdown cells and comments in the code to document and motivate you solution\n",
    "* show and analyze intermediate results\n",
    "* evaluate and discuss your solution\n",
    "\n",
    "### Grading Criteria\n",
    "* 4.0 : notebook that works and gives some solution to the problem\n",
    "* 3.0 : + good documentation, evaluation and discussion\n",
    "* 2.0 : + complete processing pipeline, good results\n",
    "* 1.0 : + very detailed documentation and analysis, hyper-parameter optimization, tried and compared more than one method \n",
    "\n"
   ]
  },
  {
   "cell_type": "markdown",
   "metadata": {
    "id": "59FQDpGQzkY4"
   },
   "source": [
    "# Task: Breaking image captchas  \n",
    "\n",
    "We are working on this Kaggle Challenge: https://www.kaggle.com/fournierp/captcha-version-2-images  \n",
    "\n",
    "HINT: have a good look at the problem description and the notebooks of other users to get started \n",
    "\n",
    "* Train and test images are in the according folders\n",
    "* The true labels are encoded in the file names "
   ]
  },
  {
   "cell_type": "markdown",
   "metadata": {
    "id": "JqupLDr6zkY5"
   },
   "source": [
    "## Tasks to follow:\n",
    "* write code to read the images [use the imageio lib](https://imageio.readthedocs.io/en/stable/userapi.html) and convert then into NUMPY feature vectors\n",
    "and labels\n",
    "    * HINT: use [the os lib](https://docs.python.org/2/library/os.html#os.listdir) to get files in a directory\n",
    "* the hardest part is to solve the segmentation problem: splitting the image into single characters\n",
    "    * try Clustering over pixel positions\n",
    "    * or a density projection along the y-axis\n",
    "* crate a training data set of labeled character segments\n",
    "    * evaluate this step\n",
    "* train a CNN or MLP network to classify character segments\n",
    "    * evaluate this step\n",
    "* build a full pipeline to transform capcha image inputs into strings\n",
    "* Evaluate and discuss your results"
   ]
  },
  {
   "cell_type": "code",
   "execution_count": 1,
   "metadata": {
    "executionInfo": {
     "elapsed": 536,
     "status": "ok",
     "timestamp": 1612726399445,
     "user": {
      "displayName": "Melanie McLeod",
      "photoUrl": "",
      "userId": "15020505036329731243"
     },
     "user_tz": -60
    },
    "id": "p2pjwAQdzkY5"
   },
   "outputs": [
    {
     "name": "stderr",
     "output_type": "stream",
     "text": [
      "Using TensorFlow backend.\n",
      "/home/student/anaconda3/lib/python3.7/site-packages/tensorflow/python/framework/dtypes.py:516: FutureWarning: Passing (type, 1) or '1type' as a synonym of type is deprecated; in a future version of numpy, it will be understood as (type, (1,)) / '(1,)type'.\n",
      "  _np_qint8 = np.dtype([(\"qint8\", np.int8, 1)])\n",
      "/home/student/anaconda3/lib/python3.7/site-packages/tensorflow/python/framework/dtypes.py:517: FutureWarning: Passing (type, 1) or '1type' as a synonym of type is deprecated; in a future version of numpy, it will be understood as (type, (1,)) / '(1,)type'.\n",
      "  _np_quint8 = np.dtype([(\"quint8\", np.uint8, 1)])\n",
      "/home/student/anaconda3/lib/python3.7/site-packages/tensorflow/python/framework/dtypes.py:518: FutureWarning: Passing (type, 1) or '1type' as a synonym of type is deprecated; in a future version of numpy, it will be understood as (type, (1,)) / '(1,)type'.\n",
      "  _np_qint16 = np.dtype([(\"qint16\", np.int16, 1)])\n",
      "/home/student/anaconda3/lib/python3.7/site-packages/tensorflow/python/framework/dtypes.py:519: FutureWarning: Passing (type, 1) or '1type' as a synonym of type is deprecated; in a future version of numpy, it will be understood as (type, (1,)) / '(1,)type'.\n",
      "  _np_quint16 = np.dtype([(\"quint16\", np.uint16, 1)])\n",
      "/home/student/anaconda3/lib/python3.7/site-packages/tensorflow/python/framework/dtypes.py:520: FutureWarning: Passing (type, 1) or '1type' as a synonym of type is deprecated; in a future version of numpy, it will be understood as (type, (1,)) / '(1,)type'.\n",
      "  _np_qint32 = np.dtype([(\"qint32\", np.int32, 1)])\n",
      "/home/student/anaconda3/lib/python3.7/site-packages/tensorflow/python/framework/dtypes.py:525: FutureWarning: Passing (type, 1) or '1type' as a synonym of type is deprecated; in a future version of numpy, it will be understood as (type, (1,)) / '(1,)type'.\n",
      "  np_resource = np.dtype([(\"resource\", np.ubyte, 1)])\n",
      "/home/student/anaconda3/lib/python3.7/site-packages/tensorboard/compat/tensorflow_stub/dtypes.py:541: FutureWarning: Passing (type, 1) or '1type' as a synonym of type is deprecated; in a future version of numpy, it will be understood as (type, (1,)) / '(1,)type'.\n",
      "  _np_qint8 = np.dtype([(\"qint8\", np.int8, 1)])\n",
      "/home/student/anaconda3/lib/python3.7/site-packages/tensorboard/compat/tensorflow_stub/dtypes.py:542: FutureWarning: Passing (type, 1) or '1type' as a synonym of type is deprecated; in a future version of numpy, it will be understood as (type, (1,)) / '(1,)type'.\n",
      "  _np_quint8 = np.dtype([(\"quint8\", np.uint8, 1)])\n",
      "/home/student/anaconda3/lib/python3.7/site-packages/tensorboard/compat/tensorflow_stub/dtypes.py:543: FutureWarning: Passing (type, 1) or '1type' as a synonym of type is deprecated; in a future version of numpy, it will be understood as (type, (1,)) / '(1,)type'.\n",
      "  _np_qint16 = np.dtype([(\"qint16\", np.int16, 1)])\n",
      "/home/student/anaconda3/lib/python3.7/site-packages/tensorboard/compat/tensorflow_stub/dtypes.py:544: FutureWarning: Passing (type, 1) or '1type' as a synonym of type is deprecated; in a future version of numpy, it will be understood as (type, (1,)) / '(1,)type'.\n",
      "  _np_quint16 = np.dtype([(\"quint16\", np.uint16, 1)])\n",
      "/home/student/anaconda3/lib/python3.7/site-packages/tensorboard/compat/tensorflow_stub/dtypes.py:545: FutureWarning: Passing (type, 1) or '1type' as a synonym of type is deprecated; in a future version of numpy, it will be understood as (type, (1,)) / '(1,)type'.\n",
      "  _np_qint32 = np.dtype([(\"qint32\", np.int32, 1)])\n",
      "/home/student/anaconda3/lib/python3.7/site-packages/tensorboard/compat/tensorflow_stub/dtypes.py:550: FutureWarning: Passing (type, 1) or '1type' as a synonym of type is deprecated; in a future version of numpy, it will be understood as (type, (1,)) / '(1,)type'.\n",
      "  np_resource = np.dtype([(\"resource\", np.ubyte, 1)])\n"
     ]
    }
   ],
   "source": [
    "#Pip installs for all packages if needed\n",
    "#!pip install os\n",
    "#!pip install imageio\n",
    "#!pip install opencv-python\n",
    "#!pip install matplotlib\n",
    "#!pip install tensorflow\n",
    "#!pip install keras\n",
    "\n",
    "\n",
    "#Importing all needed packages\n",
    "import os\n",
    "import imageio\n",
    "import numpy as np\n",
    "from cv2 import cv2\n",
    "import string\n",
    "import matplotlib.pyplot as plt\n",
    "%matplotlib inline\n",
    "import keras\n",
    "\n",
    "# Results are writen to the current directory are saved as output.\n",
    "from keras.layers import Layer\n",
    "from keras import backend as K\n",
    "from keras import layers\n",
    "from keras.models import Model\n",
    "from keras.models import load_model\n",
    "from keras import callbacks"
   ]
  },
  {
   "cell_type": "markdown",
   "metadata": {
    "id": "RLgI9t33zkY6"
   },
   "source": [
    "First visualization of data set and how with importing in with imageio the images apppears in plots. This helps distingish if the image is brought in as indiviual letter/numbers or the full image is stored. "
   ]
  },
  {
   "cell_type": "code",
   "execution_count": 2,
   "metadata": {
    "colab": {
     "base_uri": "https://localhost:8080/",
     "height": 375
    },
    "executionInfo": {
     "elapsed": 710,
     "status": "error",
     "timestamp": 1612726405693,
     "user": {
      "displayName": "Melanie McLeod",
      "photoUrl": "",
      "userId": "15020505036329731243"
     },
     "user_tz": -60
    },
    "id": "E-4IegGGzkY7",
    "outputId": "4a58a8be-2a34-4007-b146-f83c4da25494"
   },
   "outputs": [
    {
     "name": "stdout",
     "output_type": "stream",
     "text": [
      "(50, 200)\n"
     ]
    },
    {
     "data": {
      "image/png": "[encoded data removed]",
      "text/plain": [
       "<Figure size 432x288 with 2 Axes>"
      ]
     },
     "metadata": {
      "needs_background": "light"
     },
     "output_type": "display_data"
    }
   ],
   "source": [
    "#Example of how imageio reads the data in visual form. the Captcha is in a clear dark purple. \n",
    "image = imageio.imread('../Project/train/2b827.png', as_gray=True)\n",
    "print(image.shape)\n",
    "\n",
    "plt.figure()\n",
    "plt.imshow(image, cmap=plt.get_cmap('gray'))\n",
    "plt.colorbar()\n",
    "plt.show()"
   ]
  },
  {
   "cell_type": "markdown",
   "metadata": {
    "id": "4lsSRmQJzkY7"
   },
   "source": [
    "After we know how the image comes in we can set up a function to import and store all the images for testing or training sets. According to the Kaggle information all images are in 50 by 200 PNGS. Also found online are the symbols avaible to Captcha, which we can utilized for ensure the y match up with the limited options for Captcha."
   ]
  },
  {
   "cell_type": "code",
   "execution_count": 3,
   "metadata": {
    "id": "l-lCMQtxzkY7"
   },
   "outputs": [],
   "source": [
    "#Init main values\n",
    "symbols = string.ascii_lowercase + \"0123456789\" # All symbols captcha can contain\n",
    "num_symbols = len(symbols)\n",
    "img_shape = (50, 200, 1)\n",
    "\n",
    "#preprocessing the data into Numpy array's\n",
    "def preprocess_data(type):\n",
    "    n_samples = len(os.listdir(f'../Project/{type}'))\n",
    "    X = np.zeros((n_samples, 50, 200, 1)) # the size of image is known to be 200 x 50 PNGs #970*50*200 shape\n",
    "    y = np.zeros((5, n_samples, num_symbols)) #5*970*36 shape\n",
    "\n",
    "    for i,pic in enumerate(os.listdir(f'../Project/{type}')):\n",
    "        # Read image as grayscale\n",
    "        img = cv2.imread(os.path.join(f'../Project/{type}',pic), cv2.IMREAD_GRAYSCALE)\n",
    "        pic_target = pic[:-4]\n",
    "        if len(pic_target) < 6:\n",
    "            # Scale and reshape image\n",
    "            img = img / 255.0\n",
    "            img = np.reshape(img, (50, 200, 1))\n",
    "            # Define targets and code them using OneHotEncoding\n",
    "            targs = np.zeros((5, num_symbols))\n",
    "            for j, l in enumerate(pic_target):\n",
    "                ind = symbols.find(l)\n",
    "                targs[j, ind] = 1\n",
    "            X[i] = img\n",
    "            y[:, i] = targs\n",
    "    \n",
    "    # Return final data\n",
    "    return X, y"
   ]
  },
  {
   "cell_type": "markdown",
   "metadata": {
    "id": "rUGeyLTvzkY8"
   },
   "source": [
    "After setting up a clear pipeline stored in classes and functions above we can start utilizing them to train and test the models. Below we utlize the relative paths of train and test folders to set up the X,y datasets. Stored in preprocess_data() is our function for utilizing imageio lib for storing the data in vectors. Note: we utilized `as_gray=True` to indicate the images are in grey scale this reduces our shape from a (5,200,4) to (5,200) which aligns with the size of images perfectly. "
   ]
  },
  {
   "cell_type": "code",
   "execution_count": 4,
   "metadata": {
    "id": "8mfIVwz0zkY8",
    "outputId": "4c80b306-9860-4f32-ee64-fc50486680b8"
   },
   "outputs": [
    {
     "name": "stdout",
     "output_type": "stream",
     "text": [
      "Shapes of X: train (970, 50, 200, 1) test (100, 50, 200, 1)\n",
      "Shapes of y: train (5, 970, 36) test (5, 100, 36)\n"
     ]
    }
   ],
   "source": [
    "#Create Train and Test sets\n",
    "X_train, y_train = preprocess_data('train')\n",
    "X_test, y_test = preprocess_data('test')\n",
    "\n",
    "print(\"Shapes of X: train\", X_train.shape, \"test\", X_test.shape)\n",
    "print(\"Shapes of y: train\", y_train.shape, \"test\", y_test.shape)"
   ]
  },
  {
   "cell_type": "markdown",
   "metadata": {
    "id": "gnlEjv5UzkY8"
   },
   "source": [
    "As can be seen below the each of the images are stored in arrays but it is a bit of guess work on seperating out the individual character arrays within the individual image arrays stored. We will take care of this within the model itself utilizing flatteing of image and branches. \n"
   ]
  },
  {
   "cell_type": "markdown",
   "metadata": {},
   "source": [
    "## Model Creation"
   ]
  },
  {
   "cell_type": "markdown",
   "metadata": {
    "id": "D6A5CBbgzkY_"
   },
   "source": [
    "Now that the data stored in the X,y for train and test we can create a CNN model. We are utilizing a CNN model because were designed for image mapping. https://machinelearningmastery.com/when-to-use-mlp-cnn-and-rnn-neural-networks/. In creating the model we need to breadown the image from a whole view to try to get section of each letter/number for the model to match. Since we know there are only 5 characters in the captcha images we  can use this for setting up 5 branches for the CNN. The activation function of relu was selected  in betwenn layers as this is a pretty standard starting point and is more computationally effiecent. Since the ultimate goal would be to accurately predict to break the captcha the evaluation metric being used is overall accuracy. "
   ]
  },
  {
   "cell_type": "code",
   "execution_count": 5,
   "metadata": {
    "id": "UZq16J_4zkY_"
   },
   "outputs": [],
   "source": [
    "def create_model():\n",
    "    img = layers.Input(shape=img_shape) # Get image as an input and process it through some Convs\n",
    "    conv1 = layers.Conv2D(16, (3, 3), padding='same', activation='relu')(img)\n",
    "    mp1 = layers.MaxPooling2D(padding='same')(conv1)  # 100x25\n",
    "    conv2 = layers.Conv2D(32, (3, 3), padding='same', activation='relu')(mp1)\n",
    "    mp2 = layers.MaxPooling2D(padding='same')(conv2)  # 50x13\n",
    "    conv3 = layers.Conv2D(32, (3, 3), padding='same', activation='relu')(mp2)\n",
    "    bn = layers.BatchNormalization()(conv3)\n",
    "    mp3 = layers.MaxPooling2D(padding='same')(bn)  # 25x7\n",
    "    \n",
    "    # Get flattened vector and make 5 branches from it. Each branch will predict one letter\n",
    "    flat = layers.Flatten()(mp3)\n",
    "    outs = []\n",
    "    for _ in range(5):\n",
    "        dens1 = layers.Dense(64, activation='relu')(flat)\n",
    "        drop = layers.Dropout(0.5)(dens1)\n",
    "        res = layers.Dense(num_symbols, activation='sigmoid')(drop)\n",
    "\n",
    "        outs.append(res)\n",
    "    \n",
    "    # Compile model and return it\n",
    "    model = Model(img, outs)\n",
    "    model.compile(loss='categorical_crossentropy', optimizer='adam',metrics=[\"accuracy\"])\n",
    "    return model"
   ]
  },
  {
   "cell_type": "code",
   "execution_count": 6,
   "metadata": {
    "id": "kihIontFzkZA"
   },
   "outputs": [
    {
     "name": "stdout",
     "output_type": "stream",
     "text": [
      "WARNING:tensorflow:From /home/student/anaconda3/lib/python3.7/site-packages/keras/backend/tensorflow_backend.py:4070: The name tf.nn.max_pool is deprecated. Please use tf.nn.max_pool2d instead.\n",
      "\n"
     ]
    }
   ],
   "source": [
    "#Setup the Model, History Logs, \n",
    "model = create_model()\n"
   ]
  },
  {
   "cell_type": "code",
   "execution_count": 7,
   "metadata": {},
   "outputs": [
    {
     "name": "stdout",
     "output_type": "stream",
     "text": [
      "WARNING:tensorflow:From /home/student/anaconda3/lib/python3.7/site-packages/tensorflow/python/ops/math_grad.py:1250: add_dispatch_support.<locals>.wrapper (from tensorflow.python.ops.array_ops) is deprecated and will be removed in a future version.\n",
      "Instructions for updating:\n",
      "Use tf.where in 2.0, which has the same broadcast rule as np.where\n",
      "WARNING:tensorflow:From /home/student/anaconda3/lib/python3.7/site-packages/keras/backend/tensorflow_backend.py:422: The name tf.global_variables is deprecated. Please use tf.compat.v1.global_variables instead.\n",
      "\n",
      "Train on 970 samples, validate on 100 samples\n",
      "Epoch 1/30\n",
      "970/970 [==============================] - 5s 5ms/step - loss: 17.0068 - dense_2_loss: 3.4538 - dense_4_loss: 3.4169 - dense_6_loss: 3.3789 - dense_8_loss: 3.4199 - dense_10_loss: 3.3295 - dense_2_accuracy: 0.0608 - dense_4_accuracy: 0.0577 - dense_6_accuracy: 0.0536 - dense_8_accuracy: 0.0392 - dense_10_accuracy: 0.0619 - val_loss: 17.3695 - val_dense_2_loss: 3.4564 - val_dense_4_loss: 3.4970 - val_dense_6_loss: 3.4706 - val_dense_8_loss: 3.5064 - val_dense_10_loss: 3.4449 - val_dense_2_accuracy: 0.0400 - val_dense_4_accuracy: 0.0300 - val_dense_6_accuracy: 0.0400 - val_dense_8_accuracy: 0.0600 - val_dense_10_accuracy: 0.0900\n",
      "Epoch 2/30\n",
      "970/970 [==============================] - 2s 2ms/step - loss: 15.8351 - dense_2_loss: 3.1257 - dense_4_loss: 3.1917 - dense_6_loss: 3.1628 - dense_8_loss: 3.2328 - dense_10_loss: 3.1160 - dense_2_accuracy: 0.0711 - dense_4_accuracy: 0.0732 - dense_6_accuracy: 0.0763 - dense_8_accuracy: 0.0443 - dense_10_accuracy: 0.0753 - val_loss: 17.2406 - val_dense_2_loss: 3.4271 - val_dense_4_loss: 3.4707 - val_dense_6_loss: 3.4627 - val_dense_8_loss: 3.4652 - val_dense_10_loss: 3.4115 - val_dense_2_accuracy: 0.0900 - val_dense_4_accuracy: 0.0900 - val_dense_6_accuracy: 0.0400 - val_dense_8_accuracy: 0.0600 - val_dense_10_accuracy: 0.0900\n",
      "Epoch 3/30\n",
      "970/970 [==============================] - 2s 2ms/step - loss: 14.9580 - dense_2_loss: 2.9452 - dense_4_loss: 2.9759 - dense_6_loss: 3.0000 - dense_8_loss: 3.0879 - dense_10_loss: 2.9337 - dense_2_accuracy: 0.0753 - dense_4_accuracy: 0.0938 - dense_6_accuracy: 0.0845 - dense_8_accuracy: 0.0670 - dense_10_accuracy: 0.1031 - val_loss: 17.2777 - val_dense_2_loss: 3.4391 - val_dense_4_loss: 3.4463 - val_dense_6_loss: 3.4673 - val_dense_8_loss: 3.4721 - val_dense_10_loss: 3.4510 - val_dense_2_accuracy: 0.2300 - val_dense_4_accuracy: 0.1000 - val_dense_6_accuracy: 0.0900 - val_dense_8_accuracy: 0.0700 - val_dense_10_accuracy: 0.1500\n",
      "Epoch 4/30\n",
      "970/970 [==============================] - 2s 2ms/step - loss: 14.2715 - dense_2_loss: 2.7671 - dense_4_loss: 2.8208 - dense_6_loss: 2.8987 - dense_8_loss: 2.9829 - dense_10_loss: 2.8068 - dense_2_accuracy: 0.1753 - dense_4_accuracy: 0.1206 - dense_6_accuracy: 0.1103 - dense_8_accuracy: 0.0763 - dense_10_accuracy: 0.1196 - val_loss: 17.2174 - val_dense_2_loss: 3.4553 - val_dense_4_loss: 3.4381 - val_dense_6_loss: 3.4562 - val_dense_8_loss: 3.4590 - val_dense_10_loss: 3.4265 - val_dense_2_accuracy: 0.3100 - val_dense_4_accuracy: 0.1700 - val_dense_6_accuracy: 0.1600 - val_dense_8_accuracy: 0.1100 - val_dense_10_accuracy: 0.1200\n",
      "Epoch 5/30\n",
      "970/970 [==============================] - 2s 2ms/step - loss: 13.4864 - dense_2_loss: 2.5416 - dense_4_loss: 2.6112 - dense_6_loss: 2.7571 - dense_8_loss: 2.8780 - dense_10_loss: 2.6867 - dense_2_accuracy: 0.2371 - dense_4_accuracy: 0.2072 - dense_6_accuracy: 0.1567 - dense_8_accuracy: 0.0856 - dense_10_accuracy: 0.1402 - val_loss: 16.4341 - val_dense_2_loss: 3.1713 - val_dense_4_loss: 3.2683 - val_dense_6_loss: 3.3642 - val_dense_8_loss: 3.3313 - val_dense_10_loss: 3.2993 - val_dense_2_accuracy: 0.3000 - val_dense_4_accuracy: 0.0900 - val_dense_6_accuracy: 0.1000 - val_dense_8_accuracy: 0.1100 - val_dense_10_accuracy: 0.2200\n",
      "Epoch 6/30\n",
      "970/970 [==============================] - 2s 2ms/step - loss: 12.5543 - dense_2_loss: 2.3247 - dense_4_loss: 2.2868 - dense_6_loss: 2.6150 - dense_8_loss: 2.7290 - dense_10_loss: 2.5886 - dense_2_accuracy: 0.2794 - dense_4_accuracy: 0.2608 - dense_6_accuracy: 0.1732 - dense_8_accuracy: 0.1124 - dense_10_accuracy: 0.1371 - val_loss: 15.3677 - val_dense_2_loss: 2.9644 - val_dense_4_loss: 3.0834 - val_dense_6_loss: 3.1688 - val_dense_8_loss: 3.1460 - val_dense_10_loss: 3.0342 - val_dense_2_accuracy: 0.5700 - val_dense_4_accuracy: 0.2800 - val_dense_6_accuracy: 0.0500 - val_dense_8_accuracy: 0.2300 - val_dense_10_accuracy: 0.1500\n",
      "Epoch 7/30\n",
      "970/970 [==============================] - 2s 2ms/step - loss: 11.3213 - dense_2_loss: 1.9108 - dense_4_loss: 2.0120 - dense_6_loss: 2.4109 - dense_8_loss: 2.6031 - dense_10_loss: 2.3721 - dense_2_accuracy: 0.4186 - dense_4_accuracy: 0.3371 - dense_6_accuracy: 0.1845 - dense_8_accuracy: 0.1608 - dense_10_accuracy: 0.1928 - val_loss: 15.0105 - val_dense_2_loss: 2.7868 - val_dense_4_loss: 2.9799 - val_dense_6_loss: 3.1084 - val_dense_8_loss: 3.0989 - val_dense_10_loss: 3.0001 - val_dense_2_accuracy: 0.6300 - val_dense_4_accuracy: 0.3700 - val_dense_6_accuracy: 0.1600 - val_dense_8_accuracy: 0.3400 - val_dense_10_accuracy: 0.1800\n",
      "Epoch 8/30\n",
      "970/970 [==============================] - 2s 2ms/step - loss: 9.9632 - dense_2_loss: 1.4680 - dense_4_loss: 1.6654 - dense_6_loss: 2.2083 - dense_8_loss: 2.4547 - dense_10_loss: 2.1447 - dense_2_accuracy: 0.5825 - dense_4_accuracy: 0.4680 - dense_6_accuracy: 0.2464 - dense_8_accuracy: 0.2423 - dense_10_accuracy: 0.2206 - val_loss: 13.5026 - val_dense_2_loss: 2.3261 - val_dense_4_loss: 2.6764 - val_dense_6_loss: 2.9039 - val_dense_8_loss: 2.9372 - val_dense_10_loss: 2.8031 - val_dense_2_accuracy: 0.7500 - val_dense_4_accuracy: 0.6100 - val_dense_6_accuracy: 0.1400 - val_dense_8_accuracy: 0.2900 - val_dense_10_accuracy: 0.3000\n",
      "Epoch 9/30\n",
      "970/970 [==============================] - 2s 2ms/step - loss: 8.6263 - dense_2_loss: 1.0194 - dense_4_loss: 1.3522 - dense_6_loss: 1.9333 - dense_8_loss: 2.2721 - dense_10_loss: 2.0312 - dense_2_accuracy: 0.7062 - dense_4_accuracy: 0.5784 - dense_6_accuracy: 0.2804 - dense_8_accuracy: 0.2825 - dense_10_accuracy: 0.2773 - val_loss: 11.8663 - val_dense_2_loss: 1.6597 - val_dense_4_loss: 2.3419 - val_dense_6_loss: 2.6668 - val_dense_8_loss: 2.6074 - val_dense_10_loss: 2.5470 - val_dense_2_accuracy: 0.9700 - val_dense_4_accuracy: 0.6000 - val_dense_6_accuracy: 0.1400 - val_dense_8_accuracy: 0.3400 - val_dense_10_accuracy: 0.3300\n",
      "Epoch 10/30\n",
      "970/970 [==============================] - 2s 2ms/step - loss: 7.3776 - dense_2_loss: 0.7779 - dense_4_loss: 1.0955 - dense_6_loss: 1.7297 - dense_8_loss: 2.0084 - dense_10_loss: 1.7448 - dense_2_accuracy: 0.7794 - dense_4_accuracy: 0.6680 - dense_6_accuracy: 0.4062 - dense_8_accuracy: 0.3268 - dense_10_accuracy: 0.4381 - val_loss: 9.9183 - val_dense_2_loss: 1.0858 - val_dense_4_loss: 1.8526 - val_dense_6_loss: 2.3276 - val_dense_8_loss: 2.3828 - val_dense_10_loss: 2.1819 - val_dense_2_accuracy: 0.9400 - val_dense_4_accuracy: 0.7600 - val_dense_6_accuracy: 0.6000 - val_dense_8_accuracy: 0.5400 - val_dense_10_accuracy: 0.5300\n",
      "Epoch 11/30\n",
      "970/970 [==============================] - 2s 2ms/step - loss: 6.1469 - dense_2_loss: 0.5207 - dense_4_loss: 0.8404 - dense_6_loss: 1.4830 - dense_8_loss: 1.8148 - dense_10_loss: 1.4870 - dense_2_accuracy: 0.8515 - dense_4_accuracy: 0.7505 - dense_6_accuracy: 0.5041 - dense_8_accuracy: 0.4155 - dense_10_accuracy: 0.5320 - val_loss: 8.9604 - val_dense_2_loss: 0.9473 - val_dense_4_loss: 1.7496 - val_dense_6_loss: 2.2109 - val_dense_8_loss: 2.0908 - val_dense_10_loss: 2.0285 - val_dense_2_accuracy: 0.9700 - val_dense_4_accuracy: 0.7400 - val_dense_6_accuracy: 0.5900 - val_dense_8_accuracy: 0.5700 - val_dense_10_accuracy: 0.6600\n",
      "Epoch 12/30\n",
      "970/970 [==============================] - 2s 2ms/step - loss: 5.3234 - dense_2_loss: 0.4348 - dense_4_loss: 0.7065 - dense_6_loss: 1.2907 - dense_8_loss: 1.5916 - dense_10_loss: 1.2956 - dense_2_accuracy: 0.8773 - dense_4_accuracy: 0.7722 - dense_6_accuracy: 0.6041 - dense_8_accuracy: 0.4979 - dense_10_accuracy: 0.5835 - val_loss: 6.9188 - val_dense_2_loss: 0.4945 - val_dense_4_loss: 1.1814 - val_dense_6_loss: 1.6334 - val_dense_8_loss: 1.8630 - val_dense_10_loss: 1.6779 - val_dense_2_accuracy: 0.9700 - val_dense_4_accuracy: 0.8500 - val_dense_6_accuracy: 0.7000 - val_dense_8_accuracy: 0.6300 - val_dense_10_accuracy: 0.6500\n",
      "Epoch 13/30\n",
      "970/970 [==============================] - 2s 2ms/step - loss: 4.4481 - dense_2_loss: 0.3553 - dense_4_loss: 0.5622 - dense_6_loss: 1.0340 - dense_8_loss: 1.3494 - dense_10_loss: 1.1354 - dense_2_accuracy: 0.8835 - dense_4_accuracy: 0.8175 - dense_6_accuracy: 0.6454 - dense_8_accuracy: 0.5474 - dense_10_accuracy: 0.6464 - val_loss: 5.2290 - val_dense_2_loss: 0.2667 - val_dense_4_loss: 0.8940 - val_dense_6_loss: 1.2578 - val_dense_8_loss: 1.4629 - val_dense_10_loss: 1.2814 - val_dense_2_accuracy: 0.9900 - val_dense_4_accuracy: 0.8600 - val_dense_6_accuracy: 0.6800 - val_dense_8_accuracy: 0.6200 - val_dense_10_accuracy: 0.7000\n",
      "Epoch 14/30\n",
      "970/970 [==============================] - 2s 2ms/step - loss: 3.7907 - dense_2_loss: 0.2822 - dense_4_loss: 0.4920 - dense_6_loss: 0.8841 - dense_8_loss: 1.1500 - dense_10_loss: 0.9741 - dense_2_accuracy: 0.9227 - dense_4_accuracy: 0.8299 - dense_6_accuracy: 0.6866 - dense_8_accuracy: 0.6031 - dense_10_accuracy: 0.6835 - val_loss: 4.7175 - val_dense_2_loss: 0.1992 - val_dense_4_loss: 0.7679 - val_dense_6_loss: 1.1998 - val_dense_8_loss: 1.3685 - val_dense_10_loss: 1.1146 - val_dense_2_accuracy: 1.0000 - val_dense_4_accuracy: 0.8700 - val_dense_6_accuracy: 0.7100 - val_dense_8_accuracy: 0.6900 - val_dense_10_accuracy: 0.7500\n",
      "Epoch 15/30\n",
      "970/970 [==============================] - 2s 2ms/step - loss: 3.4013 - dense_2_loss: 0.3066 - dense_4_loss: 0.4252 - dense_6_loss: 0.8040 - dense_8_loss: 1.0618 - dense_10_loss: 0.7990 - dense_2_accuracy: 0.9155 - dense_4_accuracy: 0.8546 - dense_6_accuracy: 0.7206 - dense_8_accuracy: 0.6206 - dense_10_accuracy: 0.7371 - val_loss: 3.4086 - val_dense_2_loss: 0.1035 - val_dense_4_loss: 0.5394 - val_dense_6_loss: 0.9116 - val_dense_8_loss: 0.9938 - val_dense_10_loss: 0.6824 - val_dense_2_accuracy: 0.9500 - val_dense_4_accuracy: 0.8700 - val_dense_6_accuracy: 0.7300 - val_dense_8_accuracy: 0.7500 - val_dense_10_accuracy: 0.8100\n",
      "Epoch 16/30\n",
      "970/970 [==============================] - 2s 2ms/step - loss: 2.9107 - dense_2_loss: 0.2246 - dense_4_loss: 0.3850 - dense_6_loss: 0.7881 - dense_8_loss: 0.8874 - dense_10_loss: 0.6391 - dense_2_accuracy: 0.9402 - dense_4_accuracy: 0.8845 - dense_6_accuracy: 0.7340 - dense_8_accuracy: 0.7041 - dense_10_accuracy: 0.8031 - val_loss: 3.0539 - val_dense_2_loss: 0.0587 - val_dense_4_loss: 0.5814 - val_dense_6_loss: 0.7541 - val_dense_8_loss: 0.8979 - val_dense_10_loss: 0.5471 - val_dense_2_accuracy: 0.9800 - val_dense_4_accuracy: 0.8700 - val_dense_6_accuracy: 0.7600 - val_dense_8_accuracy: 0.7200 - val_dense_10_accuracy: 0.8500\n",
      "Epoch 17/30\n",
      "970/970 [==============================] - 2s 2ms/step - loss: 2.5321 - dense_2_loss: 0.2020 - dense_4_loss: 0.3176 - dense_6_loss: 0.6146 - dense_8_loss: 0.7882 - dense_10_loss: 0.5979 - dense_2_accuracy: 0.9433 - dense_4_accuracy: 0.8979 - dense_6_accuracy: 0.8000 - dense_8_accuracy: 0.7278 - dense_10_accuracy: 0.7990 - val_loss: 2.5987 - val_dense_2_loss: 0.0354 - val_dense_4_loss: 0.4738 - val_dense_6_loss: 0.6029 - val_dense_8_loss: 0.8511 - val_dense_10_loss: 0.4363 - val_dense_2_accuracy: 0.9900 - val_dense_4_accuracy: 0.8900 - val_dense_6_accuracy: 0.8100 - val_dense_8_accuracy: 0.7300 - val_dense_10_accuracy: 0.8500\n",
      "Epoch 18/30\n",
      "970/970 [==============================] - 2s 2ms/step - loss: 2.2133 - dense_2_loss: 0.1892 - dense_4_loss: 0.2943 - dense_6_loss: 0.5397 - dense_8_loss: 0.6841 - dense_10_loss: 0.5088 - dense_2_accuracy: 0.9485 - dense_4_accuracy: 0.8990 - dense_6_accuracy: 0.8021 - dense_8_accuracy: 0.7598 - dense_10_accuracy: 0.8289 - val_loss: 2.3740 - val_dense_2_loss: 0.0152 - val_dense_4_loss: 0.3994 - val_dense_6_loss: 0.6041 - val_dense_8_loss: 0.6764 - val_dense_10_loss: 0.3808 - val_dense_2_accuracy: 0.9900 - val_dense_4_accuracy: 0.9000 - val_dense_6_accuracy: 0.8000 - val_dense_8_accuracy: 0.7500 - val_dense_10_accuracy: 0.8500\n",
      "Epoch 19/30\n",
      "970/970 [==============================] - 2s 2ms/step - loss: 1.9515 - dense_2_loss: 0.1862 - dense_4_loss: 0.2325 - dense_6_loss: 0.4635 - dense_8_loss: 0.6067 - dense_10_loss: 0.4769 - dense_2_accuracy: 0.9485 - dense_4_accuracy: 0.9103 - dense_6_accuracy: 0.8371 - dense_8_accuracy: 0.7907 - dense_10_accuracy: 0.8536 - val_loss: 2.4024 - val_dense_2_loss: 0.0133 - val_dense_4_loss: 0.4649 - val_dense_6_loss: 0.6272 - val_dense_8_loss: 0.6317 - val_dense_10_loss: 0.3793 - val_dense_2_accuracy: 1.0000 - val_dense_4_accuracy: 0.8800 - val_dense_6_accuracy: 0.7700 - val_dense_8_accuracy: 0.7800 - val_dense_10_accuracy: 0.8800\n",
      "Epoch 20/30\n",
      "970/970 [==============================] - 2s 2ms/step - loss: 1.9303 - dense_2_loss: 0.1645 - dense_4_loss: 0.2566 - dense_6_loss: 0.4718 - dense_8_loss: 0.5737 - dense_10_loss: 0.4695 - dense_2_accuracy: 0.9577 - dense_4_accuracy: 0.9144 - dense_6_accuracy: 0.8320 - dense_8_accuracy: 0.8113 - dense_10_accuracy: 0.8412 - val_loss: 2.3430 - val_dense_2_loss: 0.0076 - val_dense_4_loss: 0.4273 - val_dense_6_loss: 0.5908 - val_dense_8_loss: 0.5960 - val_dense_10_loss: 0.4261 - val_dense_2_accuracy: 1.0000 - val_dense_4_accuracy: 0.8800 - val_dense_6_accuracy: 0.8200 - val_dense_8_accuracy: 0.7700 - val_dense_10_accuracy: 0.8400\n",
      "Epoch 21/30\n",
      "970/970 [==============================] - 2s 2ms/step - loss: 1.8388 - dense_2_loss: 0.1568 - dense_4_loss: 0.2332 - dense_6_loss: 0.4744 - dense_8_loss: 0.5892 - dense_10_loss: 0.3815 - dense_2_accuracy: 0.9464 - dense_4_accuracy: 0.9227 - dense_6_accuracy: 0.8278 - dense_8_accuracy: 0.8010 - dense_10_accuracy: 0.8753 - val_loss: 2.2958 - val_dense_2_loss: 0.0087 - val_dense_4_loss: 0.3709 - val_dense_6_loss: 0.5993 - val_dense_8_loss: 0.5139 - val_dense_10_loss: 0.6021 - val_dense_2_accuracy: 1.0000 - val_dense_4_accuracy: 0.8900 - val_dense_6_accuracy: 0.8200 - val_dense_8_accuracy: 0.8500 - val_dense_10_accuracy: 0.7700\n",
      "Epoch 22/30\n",
      "970/970 [==============================] - 2s 2ms/step - loss: 1.6026 - dense_2_loss: 0.1610 - dense_4_loss: 0.2192 - dense_6_loss: 0.3811 - dense_8_loss: 0.4706 - dense_10_loss: 0.3665 - dense_2_accuracy: 0.9433 - dense_4_accuracy: 0.9289 - dense_6_accuracy: 0.8629 - dense_8_accuracy: 0.8361 - dense_10_accuracy: 0.8701 - val_loss: 2.2208 - val_dense_2_loss: 0.0027 - val_dense_4_loss: 0.4625 - val_dense_6_loss: 0.5358 - val_dense_8_loss: 0.5029 - val_dense_10_loss: 0.3029 - val_dense_2_accuracy: 1.0000 - val_dense_4_accuracy: 0.8600 - val_dense_6_accuracy: 0.8300 - val_dense_8_accuracy: 0.8300 - val_dense_10_accuracy: 0.8800\n",
      "Epoch 23/30\n",
      "970/970 [==============================] - 2s 2ms/step - loss: 1.5224 - dense_2_loss: 0.1279 - dense_4_loss: 0.1999 - dense_6_loss: 0.3942 - dense_8_loss: 0.4412 - dense_10_loss: 0.3739 - dense_2_accuracy: 0.9546 - dense_4_accuracy: 0.9175 - dense_6_accuracy: 0.8680 - dense_8_accuracy: 0.8320 - dense_10_accuracy: 0.8680 - val_loss: 2.0919 - val_dense_2_loss: 0.0033 - val_dense_4_loss: 0.4451 - val_dense_6_loss: 0.4532 - val_dense_8_loss: 0.4864 - val_dense_10_loss: 0.2976 - val_dense_2_accuracy: 1.0000 - val_dense_4_accuracy: 0.9000 - val_dense_6_accuracy: 0.8400 - val_dense_8_accuracy: 0.8000 - val_dense_10_accuracy: 0.9100\n",
      "Epoch 24/30\n",
      "970/970 [==============================] - 2s 2ms/step - loss: 1.3699 - dense_2_loss: 0.0977 - dense_4_loss: 0.1820 - dense_6_loss: 0.3725 - dense_8_loss: 0.4043 - dense_10_loss: 0.3135 - dense_2_accuracy: 0.9753 - dense_4_accuracy: 0.9412 - dense_6_accuracy: 0.8660 - dense_8_accuracy: 0.8577 - dense_10_accuracy: 0.8907 - val_loss: 2.0731 - val_dense_2_loss: 6.0616e-04 - val_dense_4_loss: 0.3971 - val_dense_6_loss: 0.5170 - val_dense_8_loss: 0.4488 - val_dense_10_loss: 0.3505 - val_dense_2_accuracy: 1.0000 - val_dense_4_accuracy: 0.9100 - val_dense_6_accuracy: 0.8300 - val_dense_8_accuracy: 0.8600 - val_dense_10_accuracy: 0.8500\n",
      "Epoch 25/30\n",
      "970/970 [==============================] - 2s 2ms/step - loss: 1.2870 - dense_2_loss: 0.0896 - dense_4_loss: 0.1615 - dense_6_loss: 0.3449 - dense_8_loss: 0.3996 - dense_10_loss: 0.2876 - dense_2_accuracy: 0.9722 - dense_4_accuracy: 0.9402 - dense_6_accuracy: 0.8887 - dense_8_accuracy: 0.8649 - dense_10_accuracy: 0.9000 - val_loss: 2.7126 - val_dense_2_loss: 3.0953e-04 - val_dense_4_loss: 0.5820 - val_dense_6_loss: 0.5491 - val_dense_8_loss: 0.6186 - val_dense_10_loss: 0.5147 - val_dense_2_accuracy: 1.0000 - val_dense_4_accuracy: 0.9000 - val_dense_6_accuracy: 0.8300 - val_dense_8_accuracy: 0.7800 - val_dense_10_accuracy: 0.8500\n",
      "Epoch 26/30\n",
      "970/970 [==============================] - 2s 2ms/step - loss: 1.1422 - dense_2_loss: 0.1105 - dense_4_loss: 0.1474 - dense_6_loss: 0.2788 - dense_8_loss: 0.3256 - dense_10_loss: 0.2644 - dense_2_accuracy: 0.9670 - dense_4_accuracy: 0.9515 - dense_6_accuracy: 0.9093 - dense_8_accuracy: 0.8825 - dense_10_accuracy: 0.9031 - val_loss: 2.4156 - val_dense_2_loss: 0.0111 - val_dense_4_loss: 0.5219 - val_dense_6_loss: 0.5624 - val_dense_8_loss: 0.5109 - val_dense_10_loss: 0.4325 - val_dense_2_accuracy: 1.0000 - val_dense_4_accuracy: 0.8900 - val_dense_6_accuracy: 0.8300 - val_dense_8_accuracy: 0.8700 - val_dense_10_accuracy: 0.8500\n",
      "Epoch 27/30\n",
      "970/970 [==============================] - 2s 2ms/step - loss: 1.1295 - dense_2_loss: 0.0957 - dense_4_loss: 0.1716 - dense_6_loss: 0.2926 - dense_8_loss: 0.3509 - dense_10_loss: 0.2185 - dense_2_accuracy: 0.9680 - dense_4_accuracy: 0.9361 - dense_6_accuracy: 0.9134 - dense_8_accuracy: 0.8680 - dense_10_accuracy: 0.9186 - val_loss: 2.6555 - val_dense_2_loss: 0.0015 - val_dense_4_loss: 0.5678 - val_dense_6_loss: 0.8076 - val_dense_8_loss: 0.4992 - val_dense_10_loss: 0.4601 - val_dense_2_accuracy: 1.0000 - val_dense_4_accuracy: 0.8800 - val_dense_6_accuracy: 0.8000 - val_dense_8_accuracy: 0.8400 - val_dense_10_accuracy: 0.8700\n",
      "Epoch 28/30\n",
      "970/970 [==============================] - 2s 2ms/step - loss: 1.0875 - dense_2_loss: 0.0718 - dense_4_loss: 0.1527 - dense_6_loss: 0.2634 - dense_8_loss: 0.3307 - dense_10_loss: 0.2596 - dense_2_accuracy: 0.9742 - dense_4_accuracy: 0.9443 - dense_6_accuracy: 0.9031 - dense_8_accuracy: 0.8794 - dense_10_accuracy: 0.9134 - val_loss: 2.4954 - val_dense_2_loss: 4.2123e-04 - val_dense_4_loss: 0.6096 - val_dense_6_loss: 0.5428 - val_dense_8_loss: 0.4633 - val_dense_10_loss: 0.5092 - val_dense_2_accuracy: 1.0000 - val_dense_4_accuracy: 0.8800 - val_dense_6_accuracy: 0.8500 - val_dense_8_accuracy: 0.8600 - val_dense_10_accuracy: 0.8400\n",
      "Epoch 29/30\n",
      "970/970 [==============================] - 2s 2ms/step - loss: 0.9880 - dense_2_loss: 0.0851 - dense_4_loss: 0.1509 - dense_6_loss: 0.2364 - dense_8_loss: 0.2844 - dense_10_loss: 0.2393 - dense_2_accuracy: 0.9763 - dense_4_accuracy: 0.9526 - dense_6_accuracy: 0.9165 - dense_8_accuracy: 0.8845 - dense_10_accuracy: 0.9247 - val_loss: 2.3738 - val_dense_2_loss: 1.8490e-04 - val_dense_4_loss: 0.4787 - val_dense_6_loss: 0.5163 - val_dense_8_loss: 0.5037 - val_dense_10_loss: 0.4416 - val_dense_2_accuracy: 1.0000 - val_dense_4_accuracy: 0.9000 - val_dense_6_accuracy: 0.8400 - val_dense_8_accuracy: 0.8500 - val_dense_10_accuracy: 0.8600\n",
      "Epoch 30/30\n",
      "970/970 [==============================] - 2s 2ms/step - loss: 0.9603 - dense_2_loss: 0.0929 - dense_4_loss: 0.1527 - dense_6_loss: 0.2329 - dense_8_loss: 0.2729 - dense_10_loss: 0.1975 - dense_2_accuracy: 0.9670 - dense_4_accuracy: 0.9423 - dense_6_accuracy: 0.9113 - dense_8_accuracy: 0.8928 - dense_10_accuracy: 0.9258 - val_loss: 2.4409 - val_dense_2_loss: 0.0041 - val_dense_4_loss: 0.4841 - val_dense_6_loss: 0.5931 - val_dense_8_loss: 0.4784 - val_dense_10_loss: 0.4329 - val_dense_2_accuracy: 1.0000 - val_dense_4_accuracy: 0.9000 - val_dense_6_accuracy: 0.8400 - val_dense_8_accuracy: 0.8700 - val_dense_10_accuracy: 0.8700\n"
     ]
    }
   ],
   "source": [
    "#Model fitting\n",
    "hist = model.fit(X_train, [y_train[0],y_train[1], y_train[2], y_train[3], y_train[4]],\n",
    "                 validation_data=(X_test,[y_test[0], y_test[1], y_test[2], y_test[3], y_test[4]]),\n",
    "                 batch_size=32,\n",
    "                 epochs=30, verbose=1, validation_split=0.2)"
   ]
  },
  {
   "cell_type": "code",
   "execution_count": 8,
   "metadata": {},
   "outputs": [
    {
     "name": "stdout",
     "output_type": "stream",
     "text": [
      "100/100 [==============================] - 0s 1ms/step\n",
      "Accuracy of Testing:  [2.4409111189842223, 0.0041361283510923386, 0.48408037424087524, 0.5931270122528076, 0.4783896803855896, 0.4329153597354889, 1.0, 0.8999999761581421, 0.8399999737739563, 0.8700000047683716, 0.8700000047683716]\n"
     ]
    }
   ],
   "source": [
    "#Model Evaluation\n",
    "score_test = model.evaluate(X_test,[y_test[0], y_test[1], y_test[2], y_test[3], y_test[4]],  verbose=1)\n",
    "                            \n",
    "print(\"Accuracy of Testing: \",score_test)"
   ]
  },
  {
   "cell_type": "markdown",
   "metadata": {},
   "source": [
    "## Intrepretation of results"
   ]
  },
  {
   "cell_type": "markdown",
   "metadata": {},
   "source": [
    "From the results of the test we can see that the model trained pretty well the 5 numbers give us the accuracy per letter. This averages for an overall 89%. This is fairly accurate.  We can see that middle character has the overall lowest accuracy if we keep in mind there is a line slated through all the images this would probably be the contributed factor as it would bemore like to confus the image for another character. "
   ]
  },
  {
   "cell_type": "code",
   "execution_count": null,
   "metadata": {},
   "outputs": [],
   "source": []
  }
 ],
 "metadata": {
  "colab": {
   "name": "Project_Discription.ipynb",
   "provenance": [],
   "toc_visible": true
  },
  "kernelspec": {
   "display_name": "Python 3",
   "language": "python",
   "name": "python3"
  },
  "language_info": {
   "codemirror_mode": {
    "name": "ipython",
    "version": 3
   },
   "file_extension": ".py",
   "mimetype": "text/x-python",
   "name": "python",
   "nbconvert_exporter": "python",
   "pygments_lexer": "ipython3",
   "version": "3.7.6"
  }
 },
 "nbformat": 4,
 "nbformat_minor": 4
}

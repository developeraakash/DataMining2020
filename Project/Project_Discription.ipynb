{
 "cells": [
  {
   "cell_type": "markdown",
   "metadata": {
    "id": "x_RORTmNzkYx"
   },
   "source": [
    "# Data Mining for Security Applications: final project\n",
    "\n",
    "This final hands on project will count for 50% of your final grade (exam is the other 50%)"
   ]
  },
  {
   "cell_type": "markdown",
   "metadata": {
    "id": "Q8F4RGo-zkY4"
   },
   "source": [
    "## Organization\n",
    "* you can start the project as of now\n",
    "* the project has to be handed in no later than March 1st - NO EXTENSIONS!\n",
    "\n",
    "### Project Submission \n",
    "* hand in a single jupyter notebook for your project (via moodle)\n",
    "* set all paths as relative paths such that the data is in the same folder as the notebook\n",
    "* your notebook should run without errors (uncomment parts that do not work)\n",
    "* Use markdown cells and comments in the code to document and motivate you solution\n",
    "* show and analyze intermediate results\n",
    "* evaluate and discuss your solution\n",
    "\n",
    "### Grading Criteria\n",
    "* 4.0 : notebook that works and gives some solution to the problem\n",
    "* 3.0 : + good documentation, evaluation and discussion\n",
    "* 2.0 : + complete processing pipeline, good results\n",
    "* 1.0 : + very detailed documentation and analysis, hyper-parameter optimization, tried and compared more than one method \n",
    "\n"
   ]
  },
  {
   "cell_type": "markdown",
   "metadata": {
    "id": "59FQDpGQzkY4"
   },
   "source": [
    "# Task: Breaking image captchas  \n",
    "\n",
    "We are working on this Kaggle Challenge: https://www.kaggle.com/fournierp/captcha-version-2-images  \n",
    "\n",
    "HINT: have a good look at the problem description and the notebooks of other users to get started \n",
    "\n",
    "* Train and test images are in the according folders\n",
    "* The true labels are encoded in the file names "
   ]
  },
  {
   "cell_type": "markdown",
   "metadata": {
    "id": "JqupLDr6zkY5"
   },
   "source": [
    "## Tasks to follow:\n",
    "* write code to read the images [use the imageio lib](https://imageio.readthedocs.io/en/stable/userapi.html) and convert then into NUMPY feature vectors\n",
    "and labels\n",
    "    * HINT: use [the os lib](https://docs.python.org/2/library/os.html#os.listdir) to get files in a directory\n",
    "* the hardest part is to solve the segmentation problem: splitting the image into single characters\n",
    "    * try Clustering over pixel positions\n",
    "    * or a density projection along the y-axis\n",
    "* crate a training data set of labeled character segments\n",
    "    * evaluate this step\n",
    "* train a CNN or MLP network to classify character segments\n",
    "    * evaluate this step\n",
    "* build a full pipeline to transform capcha image inputs into strings\n",
    "* Evaluate and discuss your results"
   ]
  },
  {
   "cell_type": "code",
   "execution_count": 1,
   "metadata": {
    "executionInfo": {
     "elapsed": 536,
     "status": "ok",
     "timestamp": 1612726399445,
     "user": {
      "displayName": "Melanie McLeod",
      "photoUrl": "",
      "userId": "15020505036329731243"
     },
     "user_tz": -60
    },
    "id": "p2pjwAQdzkY5"
   },
   "outputs": [
    {
     "name": "stderr",
     "output_type": "stream",
     "text": [
      "Using TensorFlow backend.\n",
      "/home/student/anaconda3/lib/python3.7/site-packages/tensorflow/python/framework/dtypes.py:516: FutureWarning: Passing (type, 1) or '1type' as a synonym of type is deprecated; in a future version of numpy, it will be understood as (type, (1,)) / '(1,)type'.\n",
      "  _np_qint8 = np.dtype([(\"qint8\", np.int8, 1)])\n",
      "/home/student/anaconda3/lib/python3.7/site-packages/tensorflow/python/framework/dtypes.py:517: FutureWarning: Passing (type, 1) or '1type' as a synonym of type is deprecated; in a future version of numpy, it will be understood as (type, (1,)) / '(1,)type'.\n",
      "  _np_quint8 = np.dtype([(\"quint8\", np.uint8, 1)])\n",
      "/home/student/anaconda3/lib/python3.7/site-packages/tensorflow/python/framework/dtypes.py:518: FutureWarning: Passing (type, 1) or '1type' as a synonym of type is deprecated; in a future version of numpy, it will be understood as (type, (1,)) / '(1,)type'.\n",
      "  _np_qint16 = np.dtype([(\"qint16\", np.int16, 1)])\n",
      "/home/student/anaconda3/lib/python3.7/site-packages/tensorflow/python/framework/dtypes.py:519: FutureWarning: Passing (type, 1) or '1type' as a synonym of type is deprecated; in a future version of numpy, it will be understood as (type, (1,)) / '(1,)type'.\n",
      "  _np_quint16 = np.dtype([(\"quint16\", np.uint16, 1)])\n",
      "/home/student/anaconda3/lib/python3.7/site-packages/tensorflow/python/framework/dtypes.py:520: FutureWarning: Passing (type, 1) or '1type' as a synonym of type is deprecated; in a future version of numpy, it will be understood as (type, (1,)) / '(1,)type'.\n",
      "  _np_qint32 = np.dtype([(\"qint32\", np.int32, 1)])\n",
      "/home/student/anaconda3/lib/python3.7/site-packages/tensorflow/python/framework/dtypes.py:525: FutureWarning: Passing (type, 1) or '1type' as a synonym of type is deprecated; in a future version of numpy, it will be understood as (type, (1,)) / '(1,)type'.\n",
      "  np_resource = np.dtype([(\"resource\", np.ubyte, 1)])\n",
      "/home/student/anaconda3/lib/python3.7/site-packages/tensorboard/compat/tensorflow_stub/dtypes.py:541: FutureWarning: Passing (type, 1) or '1type' as a synonym of type is deprecated; in a future version of numpy, it will be understood as (type, (1,)) / '(1,)type'.\n",
      "  _np_qint8 = np.dtype([(\"qint8\", np.int8, 1)])\n",
      "/home/student/anaconda3/lib/python3.7/site-packages/tensorboard/compat/tensorflow_stub/dtypes.py:542: FutureWarning: Passing (type, 1) or '1type' as a synonym of type is deprecated; in a future version of numpy, it will be understood as (type, (1,)) / '(1,)type'.\n",
      "  _np_quint8 = np.dtype([(\"quint8\", np.uint8, 1)])\n",
      "/home/student/anaconda3/lib/python3.7/site-packages/tensorboard/compat/tensorflow_stub/dtypes.py:543: FutureWarning: Passing (type, 1) or '1type' as a synonym of type is deprecated; in a future version of numpy, it will be understood as (type, (1,)) / '(1,)type'.\n",
      "  _np_qint16 = np.dtype([(\"qint16\", np.int16, 1)])\n",
      "/home/student/anaconda3/lib/python3.7/site-packages/tensorboard/compat/tensorflow_stub/dtypes.py:544: FutureWarning: Passing (type, 1) or '1type' as a synonym of type is deprecated; in a future version of numpy, it will be understood as (type, (1,)) / '(1,)type'.\n",
      "  _np_quint16 = np.dtype([(\"quint16\", np.uint16, 1)])\n",
      "/home/student/anaconda3/lib/python3.7/site-packages/tensorboard/compat/tensorflow_stub/dtypes.py:545: FutureWarning: Passing (type, 1) or '1type' as a synonym of type is deprecated; in a future version of numpy, it will be understood as (type, (1,)) / '(1,)type'.\n",
      "  _np_qint32 = np.dtype([(\"qint32\", np.int32, 1)])\n",
      "/home/student/anaconda3/lib/python3.7/site-packages/tensorboard/compat/tensorflow_stub/dtypes.py:550: FutureWarning: Passing (type, 1) or '1type' as a synonym of type is deprecated; in a future version of numpy, it will be understood as (type, (1,)) / '(1,)type'.\n",
      "  np_resource = np.dtype([(\"resource\", np.ubyte, 1)])\n"
     ]
    }
   ],
   "source": [
    "#Pip installs for all packages if needed\n",
    "#!pip install os\n",
    "#!pip install imageio\n",
    "#!pip install opencv-python\n",
    "#!pip install matplotlib\n",
    "#!pip install tensorflow\n",
    "#!pip install keras\n",
    "\n",
    "\n",
    "#Importing all needed packages\n",
    "import os\n",
    "import imageio\n",
    "import numpy as np\n",
    "from cv2 import cv2\n",
    "import string\n",
    "import matplotlib.pyplot as plt\n",
    "%matplotlib inline\n",
    "import keras\n",
    "\n",
    "# Results are writen to the current directory are saved as output.\n",
    "from keras.layers import Layer\n",
    "from keras import backend as K\n",
    "from keras import layers\n",
    "from keras.models import Model\n",
    "from keras.models import load_model\n",
    "from keras import callbacks"
   ]
  },
  {
   "cell_type": "markdown",
   "metadata": {
    "id": "RLgI9t33zkY6"
   },
   "source": [
    "First visualization of data set and how with importing in with imageio the images apppears in plots. This helps distingish if the image is brought in as indiviual letter/numbers or the full image is stored. "
   ]
  },
  {
   "cell_type": "code",
   "execution_count": 2,
   "metadata": {
    "colab": {
     "base_uri": "https://localhost:8080/",
     "height": 375
    },
    "executionInfo": {
     "elapsed": 710,
     "status": "error",
     "timestamp": 1612726405693,
     "user": {
      "displayName": "Melanie McLeod",
      "photoUrl": "",
      "userId": "15020505036329731243"
     },
     "user_tz": -60
    },
    "id": "E-4IegGGzkY7",
    "outputId": "4a58a8be-2a34-4007-b146-f83c4da25494"
   },
   "outputs": [
    {
     "name": "stdout",
     "output_type": "stream",
     "text": [
      "(50, 200)\n"
     ]
    },
    {
     "data": {
      "image/png": "[encoded data removed]",
      "text/plain": [
       "<Figure size 432x288 with 2 Axes>"
      ]
     },
     "metadata": {
      "needs_background": "light"
     },
     "output_type": "display_data"
    }
   ],
   "source": [
    "#Example of how imageio reads the data in visual form. the Captcha is in a clear dark purple. \n",
    "image = imageio.imread('../Project/train/2b827.png', as_gray=True)\n",
    "print(image.shape)\n",
    "\n",
    "plt.figure()\n",
    "plt.imshow(image, cmap=plt.get_cmap('gray'))\n",
    "plt.colorbar()\n",
    "plt.show()"
   ]
  },
  {
   "cell_type": "markdown",
   "metadata": {
    "id": "4lsSRmQJzkY7"
   },
   "source": [
    "After we know how the image comes in we can set up a function to import and store all the images for testing or training sets. According to the Kaggle information all images are in 50 by 200 PNGS. Also found online are the symbols avaible to Captcha, which we can utilized for ensure the y match up with the limited options for Captcha."
   ]
  },
  {
   "cell_type": "code",
   "execution_count": 3,
   "metadata": {
    "id": "l-lCMQtxzkY7"
   },
   "outputs": [],
   "source": [
    "#Init main values\n",
    "symbols = string.ascii_lowercase + \"0123456789\" # All symbols captcha can contain\n",
    "num_symbols = len(symbols)\n",
    "img_shape = (50, 200, 1)\n",
    "\n",
    "#preprocessing the data into Numpy array's\n",
    "def preprocess_data(type):\n",
    "    n_samples = len(os.listdir(f'../Project/{type}'))\n",
    "    X = np.zeros((n_samples, 50, 200, 1)) # the size of image is known to be 200 x 50 PNGs #970*50*200 shape\n",
    "    y = np.zeros((5, n_samples, num_symbols)) #5*970*36 shape\n",
    "\n",
    "    for i,pic in enumerate(os.listdir(f'../Project/{type}')):\n",
    "        # Read image as grayscale\n",
    "        img = cv2.imread(os.path.join(f'../Project/{type}',pic), cv2.IMREAD_GRAYSCALE)\n",
    "        pic_target = pic[:-4]\n",
    "        if len(pic_target) < 6:\n",
    "            # Scale and reshape image\n",
    "            img = img / 255.0\n",
    "            img = np.reshape(img, (50, 200, 1))\n",
    "            # Define targets and code them using OneHotEncoding\n",
    "            targs = np.zeros((5, num_symbols))\n",
    "            for j, l in enumerate(pic_target):\n",
    "                ind = symbols.find(l)\n",
    "                targs[j, ind] = 1\n",
    "            X[i] = img\n",
    "            y[:, i] = targs\n",
    "    \n",
    "    # Return final data\n",
    "    return X, y"
   ]
  },
  {
   "cell_type": "markdown",
   "metadata": {
    "id": "rUGeyLTvzkY8"
   },
   "source": [
    "After setting up a clear pipeline stored in classes and functions above we can start utilizing them to train and test the models. Below we utlize the relative paths of train and test folders to set up the X,y datasets. Stored in preprocess_data() is our function for utilizing imageio lib for storing the data in vectors. Note: we utilized `as_gray=True` to indicate the images are in grey scale this reduces our shape from a (5,200,4) to (5,200) which aligns with the size of images perfectly. "
   ]
  },
  {
   "cell_type": "code",
   "execution_count": 4,
   "metadata": {
    "id": "8mfIVwz0zkY8",
    "outputId": "4c80b306-9860-4f32-ee64-fc50486680b8"
   },
   "outputs": [
    {
     "name": "stdout",
     "output_type": "stream",
     "text": [
      "Shapes of X: train (970, 50, 200, 1) test (100, 50, 200, 1)\n",
      "Shapes of y: train (5, 970, 36) test (5, 100, 36)\n"
     ]
    }
   ],
   "source": [
    "#Create Train and Test sets\n",
    "X_train, y_train = preprocess_data('train')\n",
    "X_test, y_test = preprocess_data('test')\n",
    "\n",
    "print(\"Shapes of X: train\", X_train.shape, \"test\", X_test.shape)\n",
    "print(\"Shapes of y: train\", y_train.shape, \"test\", y_test.shape)"
   ]
  },
  {
   "cell_type": "markdown",
   "metadata": {
    "id": "gnlEjv5UzkY8"
   },
   "source": [
    "As can be seen below the each of the images are stored in arrays but it is a bit of guess work on seperating out the individual character arrays within the individual image arrays stored. We will take care of this within the model itself utilizing flatteing of image and branches. \n"
   ]
  },
  {
   "cell_type": "markdown",
   "metadata": {},
   "source": [
    "## Model Creation"
   ]
  },
  {
   "cell_type": "markdown",
   "metadata": {
    "id": "D6A5CBbgzkY_"
   },
   "source": [
    "Now that the data stored in the X,y for train and test we can create a CNN model. We are utilizing a CNN model because were designed for image mapping. https://machinelearningmastery.com/when-to-use-mlp-cnn-and-rnn-neural-networks/. In creating the model we need to breadown the image from a whole view to try to get section of each letter/number for the model to match. Since we know there are only 5 characters in the captcha images we  can use this for setting up 5 branches for the CNN. The activation function of relu was selected  in betwenn layers as this is a pretty standard starting point and is more computationally effiecent. Since the ultimate goal would be to accurately predict to break the captcha the evaluation metric being used is overall accuracy. "
   ]
  },
  {
   "cell_type": "code",
   "execution_count": 5,
   "metadata": {
    "id": "UZq16J_4zkY_"
   },
   "outputs": [],
   "source": [
    "def create_model():\n",
    "    img = layers.Input(shape=img_shape) # Get image as an input and process it through some Convs\n",
    "    conv1 = layers.Conv2D(16, (3, 3), padding='same', activation='relu')(img)\n",
    "    mp1 = layers.MaxPooling2D(padding='same')(conv1)  # 100x25\n",
    "    conv2 = layers.Conv2D(32, (3, 3), padding='same', activation='relu')(mp1)\n",
    "    mp2 = layers.MaxPooling2D(padding='same')(conv2)  # 50x13\n",
    "    conv3 = layers.Conv2D(32, (3, 3), padding='same', activation='relu')(mp2)\n",
    "    bn = layers.BatchNormalization()(conv3)\n",
    "    mp3 = layers.MaxPooling2D(padding='same')(bn)  # 25x7\n",
    "    \n",
    "    # Get flattened vector and make 5 branches from it. Each branch will predict one letter\n",
    "    flat = layers.Flatten()(mp3)\n",
    "    outs = []\n",
    "    for _ in range(5):\n",
    "        dens1 = layers.Dense(64, activation='relu')(flat)\n",
    "        drop = layers.Dropout(0.5)(dens1)\n",
    "        res = layers.Dense(num_symbols, activation='sigmoid')(drop)\n",
    "\n",
    "        outs.append(res)\n",
    "    \n",
    "    # Compile model and return it\n",
    "    model = Model(img, outs)\n",
    "    model.compile(loss='categorical_crossentropy', optimizer='adam',metrics=[\"accuracy\"])\n",
    "    return model"
   ]
  },
  {
   "cell_type": "code",
   "execution_count": 6,
   "metadata": {
    "id": "kihIontFzkZA"
   },
   "outputs": [
    {
     "name": "stdout",
     "output_type": "stream",
     "text": [
      "WARNING:tensorflow:From /home/student/anaconda3/lib/python3.7/site-packages/keras/backend/tensorflow_backend.py:4070: The name tf.nn.max_pool is deprecated. Please use tf.nn.max_pool2d instead.\n",
      "\n"
     ]
    }
   ],
   "source": [
    "#Setup the Model, History Logs, \n",
    "model = create_model()\n"
   ]
  },
  {
   "cell_type": "code",
   "execution_count": 7,
   "metadata": {},
   "outputs": [
    {
     "name": "stdout",
     "output_type": "stream",
     "text": [
      "WARNING:tensorflow:From /home/student/anaconda3/lib/python3.7/site-packages/tensorflow/python/ops/math_grad.py:1250: add_dispatch_support.<locals>.wrapper (from tensorflow.python.ops.array_ops) is deprecated and will be removed in a future version.\n",
      "Instructions for updating:\n",
      "Use tf.where in 2.0, which has the same broadcast rule as np.where\n",
      "WARNING:tensorflow:From /home/student/anaconda3/lib/python3.7/site-packages/keras/backend/tensorflow_backend.py:422: The name tf.global_variables is deprecated. Please use tf.compat.v1.global_variables instead.\n",
      "\n",
      "Train on 970 samples, validate on 100 samples\n",
      "Epoch 1/30\n",
      "970/970 [==============================] - 5s 5ms/step - loss: 17.0344 - dense_2_loss: 3.4041 - dense_4_loss: 3.3865 - dense_6_loss: 3.3861 - dense_8_loss: 3.4201 - dense_10_loss: 3.4181 - dense_2_accuracy: 0.0495 - dense_4_accuracy: 0.0773 - dense_6_accuracy: 0.0577 - dense_8_accuracy: 0.0546 - dense_10_accuracy: 0.0588 - val_loss: 17.3869 - val_dense_2_loss: 3.4976 - val_dense_4_loss: 3.4880 - val_dense_6_loss: 3.4714 - val_dense_8_loss: 3.4691 - val_dense_10_loss: 3.4665 - val_dense_2_accuracy: 0.0400 - val_dense_4_accuracy: 0.0500 - val_dense_6_accuracy: 0.0200 - val_dense_8_accuracy: 0.0500 - val_dense_10_accuracy: 0.0900\n",
      "Epoch 2/30\n",
      "970/970 [==============================] - 2s 2ms/step - loss: 15.7954 - dense_2_loss: 3.1536 - dense_4_loss: 3.1297 - dense_6_loss: 3.1314 - dense_8_loss: 3.1863 - dense_10_loss: 3.1805 - dense_2_accuracy: 0.0773 - dense_4_accuracy: 0.0918 - dense_6_accuracy: 0.0691 - dense_8_accuracy: 0.0701 - dense_10_accuracy: 0.0835 - val_loss: 17.5778 - val_dense_2_loss: 3.5209 - val_dense_4_loss: 3.5187 - val_dense_6_loss: 3.5075 - val_dense_8_loss: 3.5122 - val_dense_10_loss: 3.5158 - val_dense_2_accuracy: 0.0900 - val_dense_4_accuracy: 0.0700 - val_dense_6_accuracy: 0.0400 - val_dense_8_accuracy: 0.0300 - val_dense_10_accuracy: 0.1300\n",
      "Epoch 3/30\n",
      "970/970 [==============================] - 2s 2ms/step - loss: 14.7601 - dense_2_loss: 2.8713 - dense_4_loss: 2.8939 - dense_6_loss: 2.9760 - dense_8_loss: 3.0215 - dense_10_loss: 2.9950 - dense_2_accuracy: 0.1351 - dense_4_accuracy: 0.1103 - dense_6_accuracy: 0.0866 - dense_8_accuracy: 0.0887 - dense_10_accuracy: 0.0969 - val_loss: 17.1149 - val_dense_2_loss: 3.4004 - val_dense_4_loss: 3.4305 - val_dense_6_loss: 3.4354 - val_dense_8_loss: 3.4182 - val_dense_10_loss: 3.4236 - val_dense_2_accuracy: 0.2300 - val_dense_4_accuracy: 0.0500 - val_dense_6_accuracy: 0.0400 - val_dense_8_accuracy: 0.2000 - val_dense_10_accuracy: 0.1000\n",
      "Epoch 4/30\n",
      "970/970 [==============================] - 2s 2ms/step - loss: 13.9895 - dense_2_loss: 2.6547 - dense_4_loss: 2.7194 - dense_6_loss: 2.8662 - dense_8_loss: 2.8632 - dense_10_loss: 2.8693 - dense_2_accuracy: 0.1856 - dense_4_accuracy: 0.1268 - dense_6_accuracy: 0.1247 - dense_8_accuracy: 0.1196 - dense_10_accuracy: 0.1258 - val_loss: 16.9472 - val_dense_2_loss: 3.3320 - val_dense_4_loss: 3.3790 - val_dense_6_loss: 3.4190 - val_dense_8_loss: 3.4085 - val_dense_10_loss: 3.4120 - val_dense_2_accuracy: 0.2400 - val_dense_4_accuracy: 0.1900 - val_dense_6_accuracy: 0.0500 - val_dense_8_accuracy: 0.2100 - val_dense_10_accuracy: 0.1300\n",
      "Epoch 5/30\n",
      "970/970 [==============================] - 2s 2ms/step - loss: 13.1800 - dense_2_loss: 2.3815 - dense_4_loss: 2.5124 - dense_6_loss: 2.7537 - dense_8_loss: 2.7651 - dense_10_loss: 2.7592 - dense_2_accuracy: 0.1918 - dense_4_accuracy: 0.1814 - dense_6_accuracy: 0.1711 - dense_8_accuracy: 0.1680 - dense_10_accuracy: 0.1320 - val_loss: 16.6642 - val_dense_2_loss: 3.2425 - val_dense_4_loss: 3.3011 - val_dense_6_loss: 3.3928 - val_dense_8_loss: 3.3590 - val_dense_10_loss: 3.3745 - val_dense_2_accuracy: 0.3000 - val_dense_4_accuracy: 0.1600 - val_dense_6_accuracy: 0.0900 - val_dense_8_accuracy: 0.2200 - val_dense_10_accuracy: 0.1100\n",
      "Epoch 6/30\n",
      "970/970 [==============================] - 2s 2ms/step - loss: 12.2618 - dense_2_loss: 2.1068 - dense_4_loss: 2.2815 - dense_6_loss: 2.6326 - dense_8_loss: 2.5906 - dense_10_loss: 2.6513 - dense_2_accuracy: 0.2732 - dense_4_accuracy: 0.1990 - dense_6_accuracy: 0.1701 - dense_8_accuracy: 0.2000 - dense_10_accuracy: 0.1660 - val_loss: 16.4292 - val_dense_2_loss: 3.1770 - val_dense_4_loss: 3.2435 - val_dense_6_loss: 3.3441 - val_dense_8_loss: 3.3596 - val_dense_10_loss: 3.3501 - val_dense_2_accuracy: 0.3100 - val_dense_4_accuracy: 0.3400 - val_dense_6_accuracy: 0.2300 - val_dense_8_accuracy: 0.2100 - val_dense_10_accuracy: 0.0800\n",
      "Epoch 7/30\n",
      "970/970 [==============================] - 2s 2ms/step - loss: 11.1486 - dense_2_loss: 1.8303 - dense_4_loss: 1.9545 - dense_6_loss: 2.4606 - dense_8_loss: 2.3796 - dense_10_loss: 2.5105 - dense_2_accuracy: 0.3433 - dense_4_accuracy: 0.2691 - dense_6_accuracy: 0.1948 - dense_8_accuracy: 0.2619 - dense_10_accuracy: 0.1784 - val_loss: 14.1275 - val_dense_2_loss: 2.6392 - val_dense_4_loss: 2.8271 - val_dense_6_loss: 2.8955 - val_dense_8_loss: 2.8991 - val_dense_10_loss: 2.9025 - val_dense_2_accuracy: 0.6700 - val_dense_4_accuracy: 0.2400 - val_dense_6_accuracy: 0.1800 - val_dense_8_accuracy: 0.3800 - val_dense_10_accuracy: 0.2000\n",
      "Epoch 8/30\n",
      "970/970 [==============================] - 2s 2ms/step - loss: 9.9814 - dense_2_loss: 1.5575 - dense_4_loss: 1.7010 - dense_6_loss: 2.2327 - dense_8_loss: 2.2430 - dense_10_loss: 2.2738 - dense_2_accuracy: 0.4907 - dense_4_accuracy: 0.3928 - dense_6_accuracy: 0.2660 - dense_8_accuracy: 0.2814 - dense_10_accuracy: 0.2330 - val_loss: 14.2692 - val_dense_2_loss: 2.6751 - val_dense_4_loss: 2.7090 - val_dense_6_loss: 2.9616 - val_dense_8_loss: 2.9899 - val_dense_10_loss: 2.9241 - val_dense_2_accuracy: 0.5900 - val_dense_4_accuracy: 0.5700 - val_dense_6_accuracy: 0.2700 - val_dense_8_accuracy: 0.2800 - val_dense_10_accuracy: 0.1400\n",
      "Epoch 9/30\n",
      "970/970 [==============================] - 2s 3ms/step - loss: 8.5872 - dense_2_loss: 1.2175 - dense_4_loss: 1.3603 - dense_6_loss: 1.9751 - dense_8_loss: 2.0022 - dense_10_loss: 2.0241 - dense_2_accuracy: 0.6144 - dense_4_accuracy: 0.5753 - dense_6_accuracy: 0.3464 - dense_8_accuracy: 0.3804 - dense_10_accuracy: 0.2887 - val_loss: 11.7935 - val_dense_2_loss: 2.0004 - val_dense_4_loss: 2.2398 - val_dense_6_loss: 2.5233 - val_dense_8_loss: 2.4737 - val_dense_10_loss: 2.4497 - val_dense_2_accuracy: 0.9100 - val_dense_4_accuracy: 0.7200 - val_dense_6_accuracy: 0.3800 - val_dense_8_accuracy: 0.5600 - val_dense_10_accuracy: 0.4400\n",
      "Epoch 10/30\n",
      "970/970 [==============================] - 2s 2ms/step - loss: 7.1169 - dense_2_loss: 0.8626 - dense_4_loss: 1.0798 - dense_6_loss: 1.7045 - dense_8_loss: 1.7234 - dense_10_loss: 1.7428 - dense_2_accuracy: 0.7309 - dense_4_accuracy: 0.6680 - dense_6_accuracy: 0.4268 - dense_8_accuracy: 0.4392 - dense_10_accuracy: 0.3990 - val_loss: 10.4999 - val_dense_2_loss: 1.7178 - val_dense_4_loss: 1.9192 - val_dense_6_loss: 2.2467 - val_dense_8_loss: 2.1890 - val_dense_10_loss: 2.2570 - val_dense_2_accuracy: 0.8700 - val_dense_4_accuracy: 0.8100 - val_dense_6_accuracy: 0.5000 - val_dense_8_accuracy: 0.5100 - val_dense_10_accuracy: 0.4400\n",
      "Epoch 11/30\n",
      "970/970 [==============================] - 2s 2ms/step - loss: 5.8678 - dense_2_loss: 0.6899 - dense_4_loss: 0.8152 - dense_6_loss: 1.4678 - dense_8_loss: 1.4773 - dense_10_loss: 1.3795 - dense_2_accuracy: 0.7753 - dense_4_accuracy: 0.7423 - dense_6_accuracy: 0.5041 - dense_8_accuracy: 0.5247 - dense_10_accuracy: 0.5423 - val_loss: 8.2095 - val_dense_2_loss: 1.0286 - val_dense_4_loss: 1.4653 - val_dense_6_loss: 1.8784 - val_dense_8_loss: 1.7851 - val_dense_10_loss: 1.7713 - val_dense_2_accuracy: 0.9000 - val_dense_4_accuracy: 0.8300 - val_dense_6_accuracy: 0.6700 - val_dense_8_accuracy: 0.6800 - val_dense_10_accuracy: 0.6600\n",
      "Epoch 12/30\n",
      "970/970 [==============================] - 2s 2ms/step - loss: 4.7660 - dense_2_loss: 0.5104 - dense_4_loss: 0.6998 - dense_6_loss: 1.1962 - dense_8_loss: 1.2317 - dense_10_loss: 1.1053 - dense_2_accuracy: 0.8392 - dense_4_accuracy: 0.7938 - dense_6_accuracy: 0.5979 - dense_8_accuracy: 0.6165 - dense_10_accuracy: 0.6454 - val_loss: 6.5661 - val_dense_2_loss: 0.6743 - val_dense_4_loss: 1.0815 - val_dense_6_loss: 1.5749 - val_dense_8_loss: 1.5143 - val_dense_10_loss: 1.4423 - val_dense_2_accuracy: 0.9600 - val_dense_4_accuracy: 0.8000 - val_dense_6_accuracy: 0.7200 - val_dense_8_accuracy: 0.7400 - val_dense_10_accuracy: 0.6900\n",
      "Epoch 13/30\n",
      "970/970 [==============================] - 2s 2ms/step - loss: 4.1587 - dense_2_loss: 0.4586 - dense_4_loss: 0.5909 - dense_6_loss: 1.0637 - dense_8_loss: 1.1159 - dense_10_loss: 0.9268 - dense_2_accuracy: 0.8536 - dense_4_accuracy: 0.8082 - dense_6_accuracy: 0.6701 - dense_8_accuracy: 0.6340 - dense_10_accuracy: 0.7041 - val_loss: 5.0061 - val_dense_2_loss: 0.3865 - val_dense_4_loss: 0.8429 - val_dense_6_loss: 1.1229 - val_dense_8_loss: 1.2338 - val_dense_10_loss: 1.0942 - val_dense_2_accuracy: 0.9600 - val_dense_4_accuracy: 0.8100 - val_dense_6_accuracy: 0.7700 - val_dense_8_accuracy: 0.8100 - val_dense_10_accuracy: 0.8000\n",
      "Epoch 14/30\n",
      "970/970 [==============================] - 2s 3ms/step - loss: 3.4016 - dense_2_loss: 0.3657 - dense_4_loss: 0.4755 - dense_6_loss: 0.8843 - dense_8_loss: 0.8920 - dense_10_loss: 0.7929 - dense_2_accuracy: 0.8918 - dense_4_accuracy: 0.8588 - dense_6_accuracy: 0.7093 - dense_8_accuracy: 0.7258 - dense_10_accuracy: 0.7371 - val_loss: 4.0532 - val_dense_2_loss: 0.2196 - val_dense_4_loss: 0.7241 - val_dense_6_loss: 0.9463 - val_dense_8_loss: 0.9561 - val_dense_10_loss: 0.8978 - val_dense_2_accuracy: 0.9900 - val_dense_4_accuracy: 0.8500 - val_dense_6_accuracy: 0.7800 - val_dense_8_accuracy: 0.8200 - val_dense_10_accuracy: 0.7600\n",
      "Epoch 15/30\n",
      "970/970 [==============================] - 3s 3ms/step - loss: 2.9966 - dense_2_loss: 0.2969 - dense_4_loss: 0.4049 - dense_6_loss: 0.7358 - dense_8_loss: 0.8366 - dense_10_loss: 0.7009 - dense_2_accuracy: 0.8959 - dense_4_accuracy: 0.8773 - dense_6_accuracy: 0.7639 - dense_8_accuracy: 0.7309 - dense_10_accuracy: 0.7742 - val_loss: 3.2865 - val_dense_2_loss: 0.1505 - val_dense_4_loss: 0.6233 - val_dense_6_loss: 0.7736 - val_dense_8_loss: 0.7380 - val_dense_10_loss: 0.7089 - val_dense_2_accuracy: 0.9700 - val_dense_4_accuracy: 0.8600 - val_dense_6_accuracy: 0.8000 - val_dense_8_accuracy: 0.8600 - val_dense_10_accuracy: 0.8200\n",
      "Epoch 16/30\n",
      "970/970 [==============================] - 2s 2ms/step - loss: 2.4834 - dense_2_loss: 0.2902 - dense_4_loss: 0.3304 - dense_6_loss: 0.6752 - dense_8_loss: 0.6591 - dense_10_loss: 0.5226 - dense_2_accuracy: 0.9155 - dense_4_accuracy: 0.9124 - dense_6_accuracy: 0.7722 - dense_8_accuracy: 0.7701 - dense_10_accuracy: 0.8155 - val_loss: 2.6895 - val_dense_2_loss: 0.1011 - val_dense_4_loss: 0.5153 - val_dense_6_loss: 0.6809 - val_dense_8_loss: 0.5095 - val_dense_10_loss: 0.5294 - val_dense_2_accuracy: 0.9600 - val_dense_4_accuracy: 0.8600 - val_dense_6_accuracy: 0.8200 - val_dense_8_accuracy: 0.8800 - val_dense_10_accuracy: 0.8700\n",
      "Epoch 17/30\n",
      "970/970 [==============================] - 2s 2ms/step - loss: 2.1365 - dense_2_loss: 0.2244 - dense_4_loss: 0.2921 - dense_6_loss: 0.5944 - dense_8_loss: 0.5624 - dense_10_loss: 0.4910 - dense_2_accuracy: 0.9155 - dense_4_accuracy: 0.9062 - dense_6_accuracy: 0.8021 - dense_8_accuracy: 0.8103 - dense_10_accuracy: 0.8536 - val_loss: 2.6997 - val_dense_2_loss: 0.0417 - val_dense_4_loss: 0.5081 - val_dense_6_loss: 0.6663 - val_dense_8_loss: 0.5349 - val_dense_10_loss: 0.5925 - val_dense_2_accuracy: 0.9900 - val_dense_4_accuracy: 0.9100 - val_dense_6_accuracy: 0.8000 - val_dense_8_accuracy: 0.8600 - val_dense_10_accuracy: 0.8200\n",
      "Epoch 18/30\n",
      "970/970 [==============================] - 2s 3ms/step - loss: 1.8596 - dense_2_loss: 0.1928 - dense_4_loss: 0.2727 - dense_6_loss: 0.4767 - dense_8_loss: 0.4992 - dense_10_loss: 0.4209 - dense_2_accuracy: 0.9433 - dense_4_accuracy: 0.9052 - dense_6_accuracy: 0.8526 - dense_8_accuracy: 0.8443 - dense_10_accuracy: 0.8464 - val_loss: 2.2809 - val_dense_2_loss: 0.0418 - val_dense_4_loss: 0.5124 - val_dense_6_loss: 0.4675 - val_dense_8_loss: 0.4572 - val_dense_10_loss: 0.4203 - val_dense_2_accuracy: 0.9900 - val_dense_4_accuracy: 0.9000 - val_dense_6_accuracy: 0.8500 - val_dense_8_accuracy: 0.8400 - val_dense_10_accuracy: 0.8800\n",
      "Epoch 19/30\n",
      "970/970 [==============================] - 2s 2ms/step - loss: 1.7226 - dense_2_loss: 0.2127 - dense_4_loss: 0.2522 - dense_6_loss: 0.4304 - dense_8_loss: 0.4788 - dense_10_loss: 0.3663 - dense_2_accuracy: 0.9330 - dense_4_accuracy: 0.9216 - dense_6_accuracy: 0.8701 - dense_8_accuracy: 0.8402 - dense_10_accuracy: 0.8845 - val_loss: 2.4487 - val_dense_2_loss: 0.0340 - val_dense_4_loss: 0.5987 - val_dense_6_loss: 0.5313 - val_dense_8_loss: 0.4040 - val_dense_10_loss: 0.4327 - val_dense_2_accuracy: 0.9800 - val_dense_4_accuracy: 0.8700 - val_dense_6_accuracy: 0.8400 - val_dense_8_accuracy: 0.8700 - val_dense_10_accuracy: 0.8600\n",
      "Epoch 20/30\n",
      "970/970 [==============================] - 2s 2ms/step - loss: 1.5685 - dense_2_loss: 0.1731 - dense_4_loss: 0.2224 - dense_6_loss: 0.4182 - dense_8_loss: 0.4143 - dense_10_loss: 0.3406 - dense_2_accuracy: 0.9433 - dense_4_accuracy: 0.9247 - dense_6_accuracy: 0.8567 - dense_8_accuracy: 0.8670 - dense_10_accuracy: 0.8866 - val_loss: 2.2906 - val_dense_2_loss: 0.0627 - val_dense_4_loss: 0.5294 - val_dense_6_loss: 0.5392 - val_dense_8_loss: 0.3923 - val_dense_10_loss: 0.4534 - val_dense_2_accuracy: 0.9800 - val_dense_4_accuracy: 0.9000 - val_dense_6_accuracy: 0.8100 - val_dense_8_accuracy: 0.8900 - val_dense_10_accuracy: 0.8600\n",
      "Epoch 21/30\n",
      "970/970 [==============================] - 2s 2ms/step - loss: 1.3694 - dense_2_loss: 0.1477 - dense_4_loss: 0.1928 - dense_6_loss: 0.3530 - dense_8_loss: 0.3798 - dense_10_loss: 0.2828 - dense_2_accuracy: 0.9485 - dense_4_accuracy: 0.9433 - dense_6_accuracy: 0.8804 - dense_8_accuracy: 0.8660 - dense_10_accuracy: 0.9155 - val_loss: 2.4968 - val_dense_2_loss: 0.0402 - val_dense_4_loss: 0.6269 - val_dense_6_loss: 0.5674 - val_dense_8_loss: 0.4171 - val_dense_10_loss: 0.4617 - val_dense_2_accuracy: 0.9800 - val_dense_4_accuracy: 0.9000 - val_dense_6_accuracy: 0.8300 - val_dense_8_accuracy: 0.8800 - val_dense_10_accuracy: 0.8900\n",
      "Epoch 22/30\n",
      "970/970 [==============================] - 3s 3ms/step - loss: 1.2509 - dense_2_loss: 0.1318 - dense_4_loss: 0.1654 - dense_6_loss: 0.2785 - dense_8_loss: 0.3639 - dense_10_loss: 0.3006 - dense_2_accuracy: 0.9536 - dense_4_accuracy: 0.9443 - dense_6_accuracy: 0.9093 - dense_8_accuracy: 0.8763 - dense_10_accuracy: 0.8928 - val_loss: 2.7072 - val_dense_2_loss: 0.0614 - val_dense_4_loss: 0.6305 - val_dense_6_loss: 0.5699 - val_dense_8_loss: 0.4618 - val_dense_10_loss: 0.5006 - val_dense_2_accuracy: 0.9800 - val_dense_4_accuracy: 0.8900 - val_dense_6_accuracy: 0.8600 - val_dense_8_accuracy: 0.8800 - val_dense_10_accuracy: 0.8500\n",
      "Epoch 23/30\n",
      "970/970 [==============================] - 2s 2ms/step - loss: 1.1722 - dense_2_loss: 0.1345 - dense_4_loss: 0.1692 - dense_6_loss: 0.2847 - dense_8_loss: 0.3230 - dense_10_loss: 0.2578 - dense_2_accuracy: 0.9474 - dense_4_accuracy: 0.9474 - dense_6_accuracy: 0.8948 - dense_8_accuracy: 0.8938 - dense_10_accuracy: 0.9062 - val_loss: 2.5161 - val_dense_2_loss: 0.0038 - val_dense_4_loss: 0.6553 - val_dense_6_loss: 0.5486 - val_dense_8_loss: 0.4292 - val_dense_10_loss: 0.4216 - val_dense_2_accuracy: 1.0000 - val_dense_4_accuracy: 0.9000 - val_dense_6_accuracy: 0.8700 - val_dense_8_accuracy: 0.8800 - val_dense_10_accuracy: 0.8600\n",
      "Epoch 24/30\n",
      "970/970 [==============================] - 2s 2ms/step - loss: 1.1028 - dense_2_loss: 0.1164 - dense_4_loss: 0.1413 - dense_6_loss: 0.2731 - dense_8_loss: 0.2966 - dense_10_loss: 0.2696 - dense_2_accuracy: 0.9639 - dense_4_accuracy: 0.9557 - dense_6_accuracy: 0.8990 - dense_8_accuracy: 0.9021 - dense_10_accuracy: 0.9052 - val_loss: 2.4945 - val_dense_2_loss: 0.0143 - val_dense_4_loss: 0.5868 - val_dense_6_loss: 0.5535 - val_dense_8_loss: 0.3992 - val_dense_10_loss: 0.5066 - val_dense_2_accuracy: 0.9900 - val_dense_4_accuracy: 0.8900 - val_dense_6_accuracy: 0.8400 - val_dense_8_accuracy: 0.9000 - val_dense_10_accuracy: 0.8700\n",
      "Epoch 25/30\n",
      "970/970 [==============================] - 2s 2ms/step - loss: 1.0182 - dense_2_loss: 0.1284 - dense_4_loss: 0.1388 - dense_6_loss: 0.2561 - dense_8_loss: 0.2698 - dense_10_loss: 0.2234 - dense_2_accuracy: 0.9567 - dense_4_accuracy: 0.9505 - dense_6_accuracy: 0.9134 - dense_8_accuracy: 0.9010 - dense_10_accuracy: 0.9278 - val_loss: 2.7717 - val_dense_2_loss: 0.0136 - val_dense_4_loss: 0.8123 - val_dense_6_loss: 0.5173 - val_dense_8_loss: 0.4314 - val_dense_10_loss: 0.4826 - val_dense_2_accuracy: 0.9900 - val_dense_4_accuracy: 0.8900 - val_dense_6_accuracy: 0.8700 - val_dense_8_accuracy: 0.8800 - val_dense_10_accuracy: 0.8600\n",
      "Epoch 26/30\n",
      "970/970 [==============================] - 3s 3ms/step - loss: 0.9019 - dense_2_loss: 0.1226 - dense_4_loss: 0.1378 - dense_6_loss: 0.2149 - dense_8_loss: 0.2517 - dense_10_loss: 0.1830 - dense_2_accuracy: 0.9598 - dense_4_accuracy: 0.9495 - dense_6_accuracy: 0.9330 - dense_8_accuracy: 0.9062 - dense_10_accuracy: 0.9340 - val_loss: 2.7157 - val_dense_2_loss: 0.0161 - val_dense_4_loss: 0.6049 - val_dense_6_loss: 0.5849 - val_dense_8_loss: 0.4661 - val_dense_10_loss: 0.6426 - val_dense_2_accuracy: 0.9900 - val_dense_4_accuracy: 0.8900 - val_dense_6_accuracy: 0.8400 - val_dense_8_accuracy: 0.8700 - val_dense_10_accuracy: 0.8600\n",
      "Epoch 27/30\n",
      "970/970 [==============================] - 2s 2ms/step - loss: 0.9492 - dense_2_loss: 0.1063 - dense_4_loss: 0.1377 - dense_6_loss: 0.2395 - dense_8_loss: 0.2682 - dense_10_loss: 0.1865 - dense_2_accuracy: 0.9588 - dense_4_accuracy: 0.9598 - dense_6_accuracy: 0.9093 - dense_8_accuracy: 0.9000 - dense_10_accuracy: 0.9289 - val_loss: 2.7655 - val_dense_2_loss: 0.0278 - val_dense_4_loss: 0.6543 - val_dense_6_loss: 0.5093 - val_dense_8_loss: 0.5109 - val_dense_10_loss: 0.6569 - val_dense_2_accuracy: 0.9900 - val_dense_4_accuracy: 0.9100 - val_dense_6_accuracy: 0.8600 - val_dense_8_accuracy: 0.8800 - val_dense_10_accuracy: 0.8400\n",
      "Epoch 28/30\n",
      "970/970 [==============================] - 2s 2ms/step - loss: 0.8360 - dense_2_loss: 0.0985 - dense_4_loss: 0.1125 - dense_6_loss: 0.2030 - dense_8_loss: 0.2404 - dense_10_loss: 0.1876 - dense_2_accuracy: 0.9649 - dense_4_accuracy: 0.9567 - dense_6_accuracy: 0.9155 - dense_8_accuracy: 0.9103 - dense_10_accuracy: 0.9340 - val_loss: 2.6920 - val_dense_2_loss: 0.0598 - val_dense_4_loss: 0.6527 - val_dense_6_loss: 0.5637 - val_dense_8_loss: 0.4472 - val_dense_10_loss: 0.5082 - val_dense_2_accuracy: 0.9800 - val_dense_4_accuracy: 0.9100 - val_dense_6_accuracy: 0.8500 - val_dense_8_accuracy: 0.8800 - val_dense_10_accuracy: 0.8600\n",
      "Epoch 29/30\n",
      "970/970 [==============================] - 2s 2ms/step - loss: 0.8326 - dense_2_loss: 0.1041 - dense_4_loss: 0.1104 - dense_6_loss: 0.2088 - dense_8_loss: 0.2254 - dense_10_loss: 0.1788 - dense_2_accuracy: 0.9619 - dense_4_accuracy: 0.9649 - dense_6_accuracy: 0.9258 - dense_8_accuracy: 0.9113 - dense_10_accuracy: 0.9381 - val_loss: 2.7714 - val_dense_2_loss: 0.0474 - val_dense_4_loss: 0.7697 - val_dense_6_loss: 0.5662 - val_dense_8_loss: 0.5651 - val_dense_10_loss: 0.4913 - val_dense_2_accuracy: 0.9900 - val_dense_4_accuracy: 0.9100 - val_dense_6_accuracy: 0.8800 - val_dense_8_accuracy: 0.8700 - val_dense_10_accuracy: 0.8900\n",
      "Epoch 30/30\n",
      "970/970 [==============================] - 2s 2ms/step - loss: 0.7277 - dense_2_loss: 0.0910 - dense_4_loss: 0.1021 - dense_6_loss: 0.1535 - dense_8_loss: 0.2303 - dense_10_loss: 0.1433 - dense_2_accuracy: 0.9732 - dense_4_accuracy: 0.9670 - dense_6_accuracy: 0.9433 - dense_8_accuracy: 0.9113 - dense_10_accuracy: 0.9557 - val_loss: 2.6400 - val_dense_2_loss: 0.0638 - val_dense_4_loss: 0.6008 - val_dense_6_loss: 0.5491 - val_dense_8_loss: 0.4549 - val_dense_10_loss: 0.5085 - val_dense_2_accuracy: 0.9800 - val_dense_4_accuracy: 0.9000 - val_dense_6_accuracy: 0.8700 - val_dense_8_accuracy: 0.8900 - val_dense_10_accuracy: 0.8700\n"
     ]
    }
   ],
   "source": [
    "#Model fitting\n",
    "hist = model.fit(X_train, [y_train[0],y_train[1], y_train[2], y_train[3], y_train[4]],\n",
    "                 validation_data=(X_test,[y_test[0], y_test[1], y_test[2], y_test[3], y_test[4]]),\n",
    "                 batch_size=32,\n",
    "                 epochs=30, verbose=1, validation_split=0.2)"
   ]
  },
  {
   "cell_type": "code",
   "execution_count": 8,
   "metadata": {},
   "outputs": [
    {
     "name": "stdout",
     "output_type": "stream",
     "text": [
      "100/100 [==============================] - 0s 689us/step\n",
      "Accuracy of Testing:  [2.6400052523612976, 0.06376636028289795, 0.6007993221282959, 0.5490698218345642, 0.45493197441101074, 0.5084739923477173, 0.9800000190734863, 0.8999999761581421, 0.8700000047683716, 0.8899999856948853, 0.8700000047683716]\n"
     ]
    }
   ],
   "source": [
    "#Model Evaluation\n",
    "score_test = model.evaluate(X_test,[y_test[0], y_test[1], y_test[2], y_test[3], y_test[4]],  verbose=1)\n",
    "                            \n",
    "print(\"Accuracy of Testing: \",score_test)"
   ]
  },
  {
   "cell_type": "markdown",
   "metadata": {},
   "source": [
    "## Intrepretation of results"
   ]
  },
  {
   "cell_type": "markdown",
   "metadata": {},
   "source": [
    "From the results of the test we can see that the model trained pretty well the 5 numbers give us the accuracy per letter. This averages for an overall 89%. This is fairly accurate.  We can see that middle character has the overall lowest accuracy if we keep in mind there is a line slated through all the images this would probably be the contributed factor as it would bemore like to confus the image for another character. "
   ]
  },
  {
   "cell_type": "markdown",
   "metadata": {},
   "source": [
    "## Predicting Results"
   ]
  },
  {
   "cell_type": "markdown",
   "metadata": {},
   "source": [
    "A model is useless unless you can put it into production. So for this we will need to create a function that we can call and predict  the results from. This can also act as another form of validation"
   ]
  },
  {
   "cell_type": "code",
   "execution_count": 19,
   "metadata": {},
   "outputs": [],
   "source": [
    "def predict(fileloc):\n",
    "    to_predict = cv2.imread(fileloc, cv2.IMREAD_GRAYSCALE)\n",
    "    actual = ''\n",
    "    if to_predict is not None:\n",
    "        to_predict = to_predict/ 255.0\n",
    "\n",
    "    else: \n",
    "        print(\"File not found\")\n",
    "        \n",
    "    res = np.array(model.predict(to_predict[np.newaxis, :, :, np.newaxis]))\n",
    "    ans = np.reshape(res, (5, 36))\n",
    "    \n",
    "    l_ind = []\n",
    "    for a in ans: \n",
    "        l_ind.append(np.argmax(a))\n",
    "\n",
    "        \n",
    "    capt = ''\n",
    "    for l in l_ind:\n",
    "        capt += symbols[l]\n",
    "        \n",
    "    return capt\n",
    "        "
   ]
  },
  {
   "cell_type": "code",
   "execution_count": 20,
   "metadata": {},
   "outputs": [
    {
     "name": "stdout",
     "output_type": "stream",
     "text": [
      "22d5n\n",
      "25w53\n",
      "268g2\n",
      "2ycn8\n"
     ]
    }
   ],
   "source": [
    "print(predict('../Project/train/22d5n.png'))\n",
    "print(predict('../Project/train/25w53.png'))\n",
    "print(predict('../Project/train/268g2.png'))\n",
    "print(predict('../Project/train/2ycn8.png'))"
   ]
  },
  {
   "cell_type": "code",
   "execution_count": null,
   "metadata": {},
   "outputs": [],
   "source": []
  }
 ],
 "metadata": {
  "colab": {
   "name": "Project_Discription.ipynb",
   "provenance": [],
   "toc_visible": true
  },
  "kernelspec": {
   "display_name": "Python 3",
   "language": "python",
   "name": "python3"
  },
  "language_info": {
   "codemirror_mode": {
    "name": "ipython",
    "version": 3
   },
   "file_extension": ".py",
   "mimetype": "text/x-python",
   "name": "python",
   "nbconvert_exporter": "python",
   "pygments_lexer": "ipython3",
   "version": "3.7.6"
  }
 },
 "nbformat": 4,
 "nbformat_minor": 4
}

{
 "cells": [
  {
   "cell_type": "markdown",
   "metadata": {},
   "source": [
    "# Lab: PCA"
   ]
  },
  {
   "cell_type": "markdown",
   "metadata": {},
   "source": [
    "### Create Data"
   ]
  },
  {
   "cell_type": "code",
   "execution_count": 2,
   "metadata": {},
   "outputs": [],
   "source": [
    "#dummy regression data\n",
    "import numpy as np\n",
    "from sklearn.datasets import make_regression\n",
    "X, y = make_regression(n_features=64, effective_rank =15,random_state=0, shuffle=False, n_samples=200)"
   ]
  },
  {
   "cell_type": "markdown",
   "metadata": {},
   "source": [
    "### E3.1 compute PCA\n",
    "see https://scikit-learn.org/stable/modules/generated/sklearn.decomposition.PCA.html"
   ]
  },
  {
   "cell_type": "code",
   "execution_count": 37,
   "metadata": {},
   "outputs": [
    {
     "name": "stdout",
     "output_type": "stream",
     "text": [
      "[0.05059228 0.05003036 0.04890061 0.04769225 0.04561069 0.04391139\n",
      " 0.04113324 0.03907968 0.03618658 0.03373577 0.03076505 0.02893893\n",
      " 0.02646643 0.02437088 0.02236346 0.02051511 0.01882832 0.01731683\n",
      " 0.01591123 0.01482833 0.01371856 0.0129256  0.01210131 0.01147327\n",
      " 0.01081094 0.01043702 0.01003149 0.00966754 0.00933501 0.00890156\n",
      " 0.00885069 0.00863215 0.00837724 0.0082254  0.00816644 0.00800618\n",
      " 0.0078592  0.00775633 0.00762369 0.00748656 0.00738705 0.00734236\n",
      " 0.00724208 0.00710188 0.00704579 0.00692771 0.00685198 0.00668259\n",
      " 0.00665803 0.00659019 0.00646882 0.00639172 0.00632022 0.00624779\n",
      " 0.0061303  0.00601019 0.00599233 0.00592301 0.00580937 0.00576263\n",
      " 0.00565365 0.00557208 0.00549008 0.00483454]\n",
      "[0.9993095  0.99374436 0.9824603  0.97024583 0.94883614 0.93099305\n",
      " 0.90106125 0.87828077 0.84514579 0.81602453 0.7792677  0.75578642\n",
      " 0.72277911 0.69357508 0.66439657 0.63634816 0.6096263  0.58464485\n",
      " 0.56041502 0.54100832 0.52036978 0.50510683 0.48873564 0.4758845\n",
      " 0.46194425 0.45388541 0.44498013 0.4368334  0.429255   0.41917072\n",
      " 0.41797131 0.41277879 0.40663837 0.40293636 0.40148961 0.39753066\n",
      " 0.39386475 0.39127842 0.38791844 0.38441374 0.38185058 0.38069383\n",
      " 0.378085   0.37440745 0.37292602 0.3697878  0.36776108 0.36318709\n",
      " 0.36251911 0.3606674  0.35733069 0.35519488 0.35320261 0.35117306\n",
      " 0.34785545 0.34443069 0.34391865 0.34192363 0.33862766 0.3372625\n",
      " 0.33405839 0.33163976 0.32919034 0.30891253]\n"
     ]
    }
   ],
   "source": [
    "import numpy as np\n",
    "from sklearn.decomposition import PCA\n",
    "\n",
    "pca = PCA(n_components = 64)\n",
    "pca.fit(X)\n",
    "print(pca.explained_variance_ratio_)\n",
    "print(pca.singular_values_)"
   ]
  },
  {
   "cell_type": "markdown",
   "metadata": {},
   "source": [
    "### E3.2 Plot Eigen Values"
   ]
  },
  {
   "cell_type": "code",
   "execution_count": 39,
   "metadata": {},
   "outputs": [
    {
     "data": {
      "image/png": "[encoded data removed]",
      "text/plain": [
       "<Figure size 432x288 with 1 Axes>"
      ]
     },
     "metadata": {},
     "output_type": "display_data"
    }
   ],
   "source": [
    "import numpy as np\n",
    "import matplotlib.pyplot as plt\n",
    "eigenvalues, eigenvectors = pca.singular_values_ ,np.cumsum(pca.explained_variance_ratio_)\n",
    "\n",
    "plt.plot(eigenvectors, eigenvalues)\n",
    "plt.show()"
   ]
  },
  {
   "cell_type": "markdown",
   "metadata": {},
   "source": [
    "### E3.3 select a $\\lambda$ cut-off and project to new base"
   ]
  },
  {
   "cell_type": "code",
   "execution_count": null,
   "metadata": {},
   "outputs": [],
   "source": []
  }
 ],
 "metadata": {
  "kernelspec": {
   "display_name": "Python 3",
   "language": "python",
   "name": "python3"
  },
  "language_info": {
   "codemirror_mode": {
    "name": "ipython",
    "version": 3
   },
   "file_extension": ".py",
   "mimetype": "text/x-python",
   "name": "python",
   "nbconvert_exporter": "python",
   "pygments_lexer": "ipython3",
   "version": "3.6.5"
  }
 },
 "nbformat": 4,
 "nbformat_minor": 2
}
